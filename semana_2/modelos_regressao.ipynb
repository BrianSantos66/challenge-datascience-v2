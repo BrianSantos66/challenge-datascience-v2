{
  "nbformat": 4,
  "nbformat_minor": 0,
  "metadata": {
    "colab": {
      "provenance": []
    },
    "kernelspec": {
      "name": "python3",
      "display_name": "Python 3"
    },
    "language_info": {
      "name": "python"
    }
  },
  "cells": [
    {
      "cell_type": "markdown",
      "source": [
        "<a href=\"https://colab.research.google.com/github/BrianSantos66/challenge-datascience-v2/blob/main/semana_3/semana_3.ipynb\" target=\"_parent\"><img src=\"https://colab.research.google.com/assets/colab-badge.svg\" alt=\"Open In Colab\"/></a>"
      ],
      "metadata": {
        "id": "BkUeUTZcAUOA"
      }
    },
    {
      "cell_type": "markdown",
      "source": [
        "# Instalação das dependências e configuração do ambiente"
      ],
      "metadata": {
        "id": "mhN1VvbT89EA"
      }
    },
    {
      "cell_type": "code",
      "source": [
        "# Instalação do PySpark e importação das bibliotecas\n",
        "!pip install pyspark\n",
        "from pyspark.sql import SparkSession\n",
        "from pyspark.sql.types import DoubleType, StringType, IntegerType, LongType\n",
        "from pyspark.sql import functions as f\n",
        "from google.colab import drive\n",
        "from pyspark.ml.feature import VectorAssembler\n",
        "from pyspark.ml.stat import Correlation\n",
        "import pandas as pd\n",
        "import matplotlib.pyplot as plt\n",
        "import seaborn as sns\n",
        "from pyspark.ml.regression import LinearRegression\n",
        "from pyspark.ml.regression import DecisionTreeRegressor\n",
        "from pyspark.ml.evaluation import RegressionEvaluator\n",
        "from pyspark.ml.regression import RandomForestRegressor"
      ],
      "metadata": {
        "colab": {
          "base_uri": "https://localhost:8080/"
        },
        "id": "ghROxEj384Fx",
        "outputId": "3f1c82cb-26a9-4c9a-956a-826b529ecc60"
      },
      "execution_count": null,
      "outputs": [
        {
          "output_type": "stream",
          "name": "stdout",
          "text": [
            "Looking in indexes: https://pypi.org/simple, https://us-python.pkg.dev/colab-wheels/public/simple/\n",
            "Requirement already satisfied: pyspark in /usr/local/lib/python3.8/dist-packages (3.3.1)\n",
            "Requirement already satisfied: py4j==0.10.9.5 in /usr/local/lib/python3.8/dist-packages (from pyspark) (0.10.9.5)\n"
          ]
        }
      ]
    },
    {
      "cell_type": "code",
      "source": [
        "# Criação da seção\n",
        "spark = SparkSession.builder\\\n",
        "    .master('local[*]')\\\n",
        "    .appName(\"selecao_features\")\\\n",
        "    .config(\"spark.ui.port\", '4050')\\\n",
        "    .getOrCreate()"
      ],
      "metadata": {
        "id": "Qj4-zWeZ87UK"
      },
      "execution_count": null,
      "outputs": []
    },
    {
      "cell_type": "code",
      "source": [
        "# Conectando no drive\n",
        "drive.mount('/content/drive')"
      ],
      "metadata": {
        "colab": {
          "base_uri": "https://localhost:8080/"
        },
        "id": "o-cfq5qR9ACN",
        "outputId": "d2bb3377-a612-4663-89a3-13d3cb09e6e6"
      },
      "execution_count": null,
      "outputs": [
        {
          "output_type": "stream",
          "name": "stdout",
          "text": [
            "Mounted at /content/drive\n"
          ]
        }
      ]
    },
    {
      "cell_type": "markdown",
      "source": [
        "# Tratamento dos dados"
      ],
      "metadata": {
        "id": "4vYwV-6tIqA1"
      }
    },
    {
      "cell_type": "code",
      "execution_count": null,
      "metadata": {
        "colab": {
          "base_uri": "https://localhost:8080/"
        },
        "id": "FQyIIJ3s1-iZ",
        "outputId": "f45af1da-16cb-493f-dd44-3f54f2139db9"
      },
      "outputs": [
        {
          "output_type": "stream",
          "name": "stdout",
          "text": [
            "+-----+----------+---------+---------+--------------------+--------------------+-------+------+------------+------------+-----------+----+------------+--------+--------------+--------------+----------+----------+----+--------------------+------------+----------+----+-----+-------+\n",
            "|andar|area_total|area_util|banheiros|     caracteristicas|                  id|quartos|suites|tipo_anuncio|tipo_unidade|   tipo_uso|vaga|      bairro|     cep|        cidade|        estado|  latitude| longitude|pais|                 rua|        zona|condominio|iptu| tipo|  valor|\n",
            "+-----+----------+---------+---------+--------------------+--------------------+-------+------+------------+------------+-----------+----+------------+--------+--------------+--------------+----------+----------+----+--------------------+------------+----------+----+-----+-------+\n",
            "|    2|        35|       35|        1|[Academia, Churra...|00002dd9-cc74-480...|      1|  null|       Usado| Apartamento|Residencial|null|Santo Cristo|20220410|Rio de Janeiro|Rio de Janeiro|-22.898243|-43.204903|  BR|         Rua Equador|Zona Central|       100| 100|Venda| 245000|\n",
            "|    5|       169|      169|        4|[Elevador, Churra...|00003eb1-1d77-43f...|      4|     2|       Usado| Apartamento|Residencial|   2|        Anil|22750390|Rio de Janeiro|Rio de Janeiro|  -22.9455|-43.334634|  BR|Avenida São Guilh...|  Zona Oeste|       998|2600|Venda| 955000|\n",
            "|    1|        82|       82|        2|[Academia, Churra...|0004b470-5332-446...|      2|     1|       Usado| Apartamento|Residencial|   1|     Taquara|22730290|Rio de Janeiro|Rio de Janeiro|-22.925446|-43.365213|  BR|Rua Marquês de Ja...|  Zona Oeste|       736| 998|Venda| 280000|\n",
            "|    0|        50|       50|        2|[Academia, Churra...|0004ff84-199d-402...|      2|     1|       Usado| Apartamento|Residencial|   1| Jacarepaguá|22780081|Rio de Janeiro|Rio de Janeiro|-22.964866|-43.405148|  BR|Estrada dos Bande...|  Zona Oeste|       504|  50|Venda| 249900|\n",
            "|    3|      null|       70|        2|[Academia, Churra...|0007bce0-65d9-4b0...|      2|     2|       Usado| Apartamento|Residencial|   1|       Gávea|22451010|Rio de Janeiro|Rio de Janeiro|-22.976784|-43.227115|  BR|  Rua General Rabelo|    Zona Sul|         1|   1|Venda|1350000|\n",
            "+-----+----------+---------+---------+--------------------+--------------------+-------+------+------------+------------+-----------+----+------------+--------+--------------+--------------+----------+----------+----+--------------------+------------+----------+----+-----+-------+\n",
            "only showing top 5 rows\n",
            "\n"
          ]
        }
      ],
      "source": [
        "# Leitura do arquivo\n",
        "df = spark.read.parquet(\"/content/drive/MyDrive/desafio_datascience/semana-1/parquet/base_tratada\")\n",
        "df.show(n=5)"
      ]
    },
    {
      "cell_type": "code",
      "source": [
        "# Contagem de dados nulos por coluna (Coluna \"caracteristicas\" removida pois esse tipo de contagem não funciona com listas)\n",
        "df_drop = df.select(\"*\").drop(\"caracteristicas\")\n",
        "\n",
        "frequencia_nulos = df_drop\\\n",
        "                    .select([f.count(f.when(f.col(c).contains('None') |\\\n",
        "                     f.col(c).contains('NULL') |\\\n",
        "                     (f.col(c) == '' ) |\\\n",
        "                     f.col(c).isNull() |\\\n",
        "                     f.isnan(c), c))\\\n",
        "                     .alias(c) for c in df_drop.columns])\n",
        "frequencia_nulos.show()"
      ],
      "metadata": {
        "colab": {
          "base_uri": "https://localhost:8080/"
        },
        "id": "DEhEZ_1W8IoV",
        "outputId": "ec952d16-b3d8-4fbc-f243-8c168a140e73"
      },
      "execution_count": null,
      "outputs": [
        {
          "output_type": "stream",
          "name": "stdout",
          "text": [
            "+-----+----------+---------+---------+---+-------+------+------------+------------+--------+----+------+---+------+------+--------+---------+----+---+----+----------+----+----+-----+\n",
            "|andar|area_total|area_util|banheiros| id|quartos|suites|tipo_anuncio|tipo_unidade|tipo_uso|vaga|bairro|cep|cidade|estado|latitude|longitude|pais|rua|zona|condominio|iptu|tipo|valor|\n",
            "+-----+----------+---------+---------+---+-------+------+------------+------------+--------+----+------+---+------+------+--------+---------+----+---+----+----------+----+----+-----+\n",
            "|    0|      9186|        0|        0|  0|      0|  5544|           0|           0|       0|3008|     0|  0|     0|     0|       1|        1|   0|  0|  11|      2347|7155|   0|    0|\n",
            "+-----+----------+---------+---------+---+-------+------+------------+------------+--------+----+------+---+------+------+--------+---------+----+---+----+----------+----+----+-----+\n",
            "\n"
          ]
        }
      ]
    },
    {
      "cell_type": "code",
      "source": [
        "# Dropando colunas que não serão utilizadas no modelo (se tratam de colunas com valores únicos que prejudicariam o modelo)\n",
        "df_features = df\\\n",
        "      .select(\"*\")\\\n",
        "      .drop(\"tipo_anuncio\", \"tipo_unidade\", \"tipo_uso\", \"tipo\", \"area_total\")"
      ],
      "metadata": {
        "id": "0gEKshM-8J4l"
      },
      "execution_count": null,
      "outputs": []
    },
    {
      "cell_type": "code",
      "source": [
        "# Tratamento das colunas colocando o tipo do dado correto\n",
        "print(\"ANTES DO TRATAMENTO:\")\n",
        "df_features.printSchema()\n",
        "\n",
        "lista_int = ['andar', \"banheiros\", \"suites\", \"quartos\"]\n",
        "lista_db = [\"area_util\", \"condominio\", \"iptu\", \"valor\"]\n",
        "\n",
        "for coluna in lista_int:\n",
        "  df_features = df_features.withColumn(coluna, df_features[f\"{coluna}\"].cast(IntegerType()))\n",
        "\n",
        "for coluna in lista_db:\n",
        "  df_features = df_features.withColumn(coluna, df_features[f\"{coluna}\"].cast(DoubleType()))  \n",
        "\n",
        "print(\"DEPOIS DO TRATAMENTO:\")\n",
        "df_features.printSchema()"
      ],
      "metadata": {
        "colab": {
          "base_uri": "https://localhost:8080/"
        },
        "id": "DNcKp0Of8MK0",
        "outputId": "6b7f4ed2-ced1-4183-931a-2fb5a856a0e2"
      },
      "execution_count": null,
      "outputs": [
        {
          "output_type": "stream",
          "name": "stdout",
          "text": [
            "ANTES DO TRATAMENTO:\n",
            "root\n",
            " |-- andar: long (nullable = true)\n",
            " |-- area_util: integer (nullable = true)\n",
            " |-- banheiros: integer (nullable = true)\n",
            " |-- caracteristicas: array (nullable = true)\n",
            " |    |-- element: string (containsNull = true)\n",
            " |-- id: string (nullable = true)\n",
            " |-- quartos: integer (nullable = true)\n",
            " |-- suites: integer (nullable = true)\n",
            " |-- vaga: integer (nullable = true)\n",
            " |-- bairro: string (nullable = true)\n",
            " |-- cep: string (nullable = true)\n",
            " |-- cidade: string (nullable = true)\n",
            " |-- estado: string (nullable = true)\n",
            " |-- latitude: double (nullable = true)\n",
            " |-- longitude: double (nullable = true)\n",
            " |-- pais: string (nullable = true)\n",
            " |-- rua: string (nullable = true)\n",
            " |-- zona: string (nullable = true)\n",
            " |-- condominio: integer (nullable = true)\n",
            " |-- iptu: integer (nullable = true)\n",
            " |-- valor: integer (nullable = true)\n",
            "\n",
            "DEPOIS DO TRATAMENTO:\n",
            "root\n",
            " |-- andar: integer (nullable = true)\n",
            " |-- area_util: double (nullable = true)\n",
            " |-- banheiros: integer (nullable = true)\n",
            " |-- caracteristicas: array (nullable = true)\n",
            " |    |-- element: string (containsNull = true)\n",
            " |-- id: string (nullable = true)\n",
            " |-- quartos: integer (nullable = true)\n",
            " |-- suites: integer (nullable = true)\n",
            " |-- vaga: integer (nullable = true)\n",
            " |-- bairro: string (nullable = true)\n",
            " |-- cep: string (nullable = true)\n",
            " |-- cidade: string (nullable = true)\n",
            " |-- estado: string (nullable = true)\n",
            " |-- latitude: double (nullable = true)\n",
            " |-- longitude: double (nullable = true)\n",
            " |-- pais: string (nullable = true)\n",
            " |-- rua: string (nullable = true)\n",
            " |-- zona: string (nullable = true)\n",
            " |-- condominio: double (nullable = true)\n",
            " |-- iptu: double (nullable = true)\n",
            " |-- valor: double (nullable = true)\n",
            "\n"
          ]
        }
      ]
    },
    {
      "cell_type": "code",
      "source": [
        "# Tratamento dos dados nulos na coluna \"caracteristicas\"\n",
        "df_features = df_features\\\n",
        "              .withColumn(\"caracteristicas\", f.when((f.size(f.col(\"caracteristicas\")) == 0), f.lit(None))\\\n",
        "              .otherwise(f.col(\"caracteristicas\")))"
      ],
      "metadata": {
        "id": "QcuXXxgG8OLn"
      },
      "execution_count": null,
      "outputs": []
    },
    {
      "cell_type": "code",
      "source": [
        "# Tratamento dos dados nulos/missing\n",
        "# Para colunas númericas os nulos foram substituidos por 0\n",
        "# Nas colunas \"zona\" e \"caracteristicas\" linhas nulas foram ignoradas no select\n",
        "\n",
        "df_features_tratado = df_features\\\n",
        "                      .select(\"*\")\\\n",
        "                      .where(\"zona != ''\")\\\n",
        "                      .where(f.size(f.col(\"caracteristicas\")) > 0)\\\n",
        "                      .na\\\n",
        "                      .fill(0)\n",
        "\n",
        "df_features_tratado.show()"
      ],
      "metadata": {
        "colab": {
          "base_uri": "https://localhost:8080/"
        },
        "id": "bbfnkqkW8Pq1",
        "outputId": "6e99a611-feca-47ab-8e85-b9d4c98f7a30"
      },
      "execution_count": null,
      "outputs": [
        {
          "output_type": "stream",
          "name": "stdout",
          "text": [
            "+-----+---------+---------+--------------------+--------------------+-------+------+----+--------------------+--------+--------------+--------------+----------+----------+----+--------------------+------------+----------+-------+---------+\n",
            "|andar|area_util|banheiros|     caracteristicas|                  id|quartos|suites|vaga|              bairro|     cep|        cidade|        estado|  latitude| longitude|pais|                 rua|        zona|condominio|   iptu|    valor|\n",
            "+-----+---------+---------+--------------------+--------------------+-------+------+----+--------------------+--------+--------------+--------------+----------+----------+----+--------------------+------------+----------+-------+---------+\n",
            "|    2|     35.0|        1|[Academia, Churra...|00002dd9-cc74-480...|      1|     0|   0|        Santo Cristo|20220410|Rio de Janeiro|Rio de Janeiro|-22.898243|-43.204903|  BR|         Rua Equador|Zona Central|     100.0|  100.0| 245000.0|\n",
            "|    5|    169.0|        4|[Elevador, Churra...|00003eb1-1d77-43f...|      4|     2|   2|                Anil|22750390|Rio de Janeiro|Rio de Janeiro|  -22.9455|-43.334634|  BR|Avenida São Guilh...|  Zona Oeste|     998.0| 2600.0| 955000.0|\n",
            "|    1|     82.0|        2|[Academia, Churra...|0004b470-5332-446...|      2|     1|   1|             Taquara|22730290|Rio de Janeiro|Rio de Janeiro|-22.925446|-43.365213|  BR|Rua Marquês de Ja...|  Zona Oeste|     736.0|  998.0| 280000.0|\n",
            "|    0|     50.0|        2|[Academia, Churra...|0004ff84-199d-402...|      2|     1|   1|         Jacarepaguá|22780081|Rio de Janeiro|Rio de Janeiro|-22.964866|-43.405148|  BR|Estrada dos Bande...|  Zona Oeste|     504.0|   50.0| 249900.0|\n",
            "|    3|     70.0|        2|[Academia, Churra...|0007bce0-65d9-4b0...|      2|     2|   1|               Gávea|22451010|Rio de Janeiro|Rio de Janeiro|-22.976784|-43.227115|  BR|  Rua General Rabelo|    Zona Sul|       1.0|    1.0|1350000.0|\n",
            "|    1|     84.0|        2|[Churrasqueira, E...|0009ca94-2b37-438...|      2|     0|   1|              Tijuca|20521160|Rio de Janeiro|Rio de Janeiro|-22.929061|-43.233597|  BR|Rua Desembargador...|  Zona Norte|     770.0|  105.0| 474980.0|\n",
            "|    0|     85.0|        2|[Elevador, Animai...|000e3d28-e3e5-411...|      2|     0|   0|        Santa Teresa|20241263|Rio de Janeiro|Rio de Janeiro|-22.932042|-43.197194|  BR|Rua Almirante Ale...|    Zona Sul|     460.0|  661.0| 290000.0|\n",
            "|    0|     58.0|        1|[Playground, Pisc...|000fb707-6cad-496...|      2|     0|   1|           Pechincha|22743900|Rio de Janeiro|Rio de Janeiro|-22.933297|-43.349116|  BR|     Estrada Capenha|  Zona Oeste|     550.0|  550.0| 249000.0|\n",
            "|    0|     35.0|        1|[Academia, Piscin...|00118f9c-44b1-413...|      1|     0|   1|              Leblon|22431050|Rio de Janeiro|Rio de Janeiro|-22.983479|-43.226747|  BR|   Rua Dias Ferreira|    Zona Sul|    1860.0| 2150.0|1190000.0|\n",
            "|    5|     92.0|        2|[Academia, Churra...|001fa6ad-107b-415...|      3|     1|   1|Recreio dos Bande...|22790587|Rio de Janeiro|Rio de Janeiro|-23.022323|-43.487687|  BR|Avenida José Luiz...|  Zona Oeste|     920.0| 2800.0| 620000.0|\n",
            "|    8|     63.0|        2|[Academia, Churra...|00225646-9f8f-410...|      2|     1|   1|              Tijuca|20530500|Rio de Janeiro|Rio de Janeiro|-22.932384|-43.247334|  BR|Rua General Espír...|  Zona Norte|     600.0| 1200.0| 610000.0|\n",
            "|    0|    200.0|        6|[Condomínio fecha...|002db67e-52cc-480...|      4|     4|   2|     Barra da Tijuca|22776050|Rio de Janeiro|Rio de Janeiro|-22.992048|  -43.3485|  BR|Rua Jacarandás da...|  Zona Oeste|    2500.0|  420.0|2900000.0|\n",
            "|    0|     70.0|        2|          [Elevador]|002dc4e0-f1a5-4ad...|      2|     0|   0|         Vila Isabel|20551120|Rio de Janeiro|Rio de Janeiro|-22.916921|-43.245707|  BR|    Rua Sousa Franco|  Zona Norte|     570.0|    0.0| 389000.0|\n",
            "|    9|     40.0|        1|[Elevador, Condom...|002fb311-cd71-4e2...|      1|     0|   0|          Copacabana|22011002|Rio de Janeiro|Rio de Janeiro|-22.963979|-43.178806|  BR|  Rua Barata Ribeiro|    Zona Sul|     450.0|   90.0| 480000.0|\n",
            "|    3|     70.0|        2|[Portão eletrônic...|0030dd84-f657-41f...|      2|     1|   1|        Pitangueiras|21930360|Rio de Janeiro|Rio de Janeiro|-22.816463|-43.176407|  BR|Praia das Pitangu...|  Zona Norte|     670.0|  107.0| 470000.0|\n",
            "|    0|    302.0|        7|[Churrasqueira, P...|003213bb-ec21-4ad...|      4|     4|   2|     Barra da Tijuca|22630010|Rio de Janeiro|Rio de Janeiro|-23.009944| -43.33154|  BR| Avenida Lúcio Costa|  Zona Oeste|       0.0|    0.0|4400000.0|\n",
            "|    0|     41.0|        1|[Academia, Churra...|0032884c-aa5f-455...|      1|     1|   1|            Cachambi|20771320|Rio de Janeiro|Rio de Janeiro|-22.888829|-43.283444|  BR|  Rua Odorico Mendes|  Zona Norte|     450.0|   40.0| 269900.0|\n",
            "|    0|    158.0|        3|          [Elevador]|00333b03-dfae-485...|      2|     1|   1|              Tijuca|20521200|Rio de Janeiro|Rio de Janeiro|-22.928653|-43.231877|  BR| Rua Silva Guimarães|  Zona Norte|     571.0|    1.0| 849999.0|\n",
            "|    1|    243.0|        5|[Academia, Piscin...|0033b08a-cd61-411...|      4|     4|   4|              Leblon|22440040|Rio de Janeiro|Rio de Janeiro|-22.985351|-43.219972|  BR|     Rua Carlos Gois|    Zona Sul|    6250.0|23755.0|8200000.0|\n",
            "|    5|     78.0|        1|[Academia, Churra...|00348cd1-923a-4db...|      2|     1|   1|     Barra da Tijuca|22793312|Rio de Janeiro|Rio de Janeiro|-22.999089|-43.408009|  BR|Avenida Cândido P...|  Zona Oeste|       1.0|    1.0|1050300.0|\n",
            "+-----+---------+---------+--------------------+--------------------+-------+------+----+--------------------+--------+--------------+--------------+----------+----------+----+--------------------+------------+----------+-------+---------+\n",
            "only showing top 20 rows\n",
            "\n"
          ]
        }
      ]
    },
    {
      "cell_type": "code",
      "source": [
        "# Transformando a coluna \"zona\" em binária\n",
        "dummy_zona = df_features_tratado\\\n",
        "  .groupBy(\"id\")\\\n",
        "  .pivot(\"zona\")\\\n",
        "  .agg(f.lit(1))\\\n",
        "  .na\\\n",
        "  .fill(0)\n",
        "  \n",
        "df_join = df_features_tratado.join(dummy_zona, \"id\", how=\"inner\")\n",
        "df_join.show(n=5)"
      ],
      "metadata": {
        "colab": {
          "base_uri": "https://localhost:8080/"
        },
        "id": "D_m4GmB98Q81",
        "outputId": "a6ec987e-b838-4e3b-e1b2-ebcc1881500e"
      },
      "execution_count": null,
      "outputs": [
        {
          "output_type": "stream",
          "name": "stdout",
          "text": [
            "+--------------------+-----+---------+---------+--------------------+-------+------+----+-----------+--------+--------------+--------------+----------+----------+----+--------------------+----------+----------+-------+---------+------------+----------+----------+--------+\n",
            "|                  id|andar|area_util|banheiros|     caracteristicas|quartos|suites|vaga|     bairro|     cep|        cidade|        estado|  latitude| longitude|pais|                 rua|      zona|condominio|   iptu|    valor|Zona Central|Zona Norte|Zona Oeste|Zona Sul|\n",
            "+--------------------+-----+---------+---------+--------------------+-------+------+----+-----------+--------+--------------+--------------+----------+----------+----+--------------------+----------+----------+-------+---------+------------+----------+----------+--------+\n",
            "|4e47e4d4-3326-4eb...|    0|     90.0|        2|          [Elevador]|      3|     1|   0| Copacabana|22031060|Rio de Janeiro|Rio de Janeiro|  -22.9641|-43.191466|  BR|Praça Vereador Ro...|  Zona Sul|     950.0| 2677.0| 949020.0|           0|         0|         0|       1|\n",
            "|02fba6ef-a691-442...|    3|     64.0|        1|[Academia, Churra...|      2|     2|   1|Jacarepaguá|22780084|Rio de Janeiro|Rio de Janeiro| -22.96686|-43.413647|  BR|Estrada dos Bande...|Zona Oeste|     784.0|   80.0| 380000.0|           0|         0|         1|       0|\n",
            "|3dd5d200-0a7f-43d...|    0|    170.0|        3|          [Elevador]|      4|     1|   1|Cosme Velho|22241125|Rio de Janeiro|Rio de Janeiro|-22.938505|-43.195529|  BR|     Rua Cosme Velho|  Zona Sul|    2250.0| 3000.0|1450000.0|           0|         0|         0|       1|\n",
            "|fc03c1a9-8bbb-41a...|    0|     82.0|        2|[Churrasqueira, C...|      3|     1|   1|     Tijuca|20511330|Rio de Janeiro|Rio de Janeiro|-22.931355|-43.247069|  BR|       Rua Garibaldi|Zona Norte|    1515.0|  133.0| 580000.0|           0|         1|         0|       0|\n",
            "|3521e03b-0815-4aa...|    0|    286.0|        7|[Portão eletrônic...|      7|     3|   4| Copacabana|22070001|Rio de Janeiro|Rio de Janeiro|-22.980693| -43.19019|  BR|   Avenida Atlântica|  Zona Sul|    2148.0|15000.0|4500000.0|           0|         0|         0|       1|\n",
            "+--------------------+-----+---------+---------+--------------------+-------+------+----+-----------+--------+--------------+--------------+----------+----------+----+--------------------+----------+----------+-------+---------+------------+----------+----------+--------+\n",
            "only showing top 5 rows\n",
            "\n"
          ]
        }
      ]
    },
    {
      "cell_type": "code",
      "source": [
        "# Itens dentro da coluna \"caracteristicas\"\n",
        "df_join.select(f.explode(\"caracteristicas\")).distinct().show()"
      ],
      "metadata": {
        "colab": {
          "base_uri": "https://localhost:8080/"
        },
        "id": "0Tjc2qYR-A4I",
        "outputId": "a6dc0062-3ebd-4d87-dc49-5ebf591963a8"
      },
      "execution_count": null,
      "outputs": [
        {
          "output_type": "stream",
          "name": "stdout",
          "text": [
            "+------------------+\n",
            "|               col|\n",
            "+------------------+\n",
            "|Condomínio fechado|\n",
            "|        Playground|\n",
            "| Portão eletrônico|\n",
            "|           Piscina|\n",
            "|Animais permitidos|\n",
            "|      Portaria 24h|\n",
            "|          Elevador|\n",
            "|          Academia|\n",
            "|   Salão de festas|\n",
            "|     Churrasqueira|\n",
            "+------------------+\n",
            "\n"
          ]
        }
      ]
    },
    {
      "cell_type": "code",
      "source": [
        "# Transformando a coluna \"zona\" em binária\n",
        "print(\"ANTES DO TRATAMENTO:\")\n",
        "df_join.printSchema()\n",
        "\n",
        "lista_carac = [\"Condomínio fechado\", \"Playground\", \"Portão eletrônico\", \"Piscina\", \"Animais permitidos\", \"Portaria 24h\", \"Elevador\",\n",
        "               \"Academia\", \"Salão de festas\", \"Churrasqueira\"]\n",
        "\n",
        "for coluna in lista_carac:\n",
        "  df_join = df_join.withColumn(coluna, f.when(f.array_contains(f.col(\"caracteristicas\"), coluna) == \"true\", f.lit(1)).otherwise(0))\n",
        "\n",
        "print(\"DEPOIS DO TRATAMENTO:\")\n",
        "df_join.printSchema()"
      ],
      "metadata": {
        "colab": {
          "base_uri": "https://localhost:8080/"
        },
        "id": "Xkqw7y89-mGV",
        "outputId": "3c32693a-6a17-42e0-e404-89c93a7d4396"
      },
      "execution_count": null,
      "outputs": [
        {
          "output_type": "stream",
          "name": "stdout",
          "text": [
            "ANTES DO TRATAMENTO:\n",
            "root\n",
            " |-- id: string (nullable = true)\n",
            " |-- andar: integer (nullable = true)\n",
            " |-- area_util: double (nullable = false)\n",
            " |-- banheiros: integer (nullable = true)\n",
            " |-- caracteristicas: array (nullable = true)\n",
            " |    |-- element: string (containsNull = true)\n",
            " |-- quartos: integer (nullable = true)\n",
            " |-- suites: integer (nullable = true)\n",
            " |-- vaga: integer (nullable = true)\n",
            " |-- bairro: string (nullable = true)\n",
            " |-- cep: string (nullable = true)\n",
            " |-- cidade: string (nullable = true)\n",
            " |-- estado: string (nullable = true)\n",
            " |-- latitude: double (nullable = false)\n",
            " |-- longitude: double (nullable = false)\n",
            " |-- pais: string (nullable = true)\n",
            " |-- rua: string (nullable = true)\n",
            " |-- zona: string (nullable = true)\n",
            " |-- condominio: double (nullable = false)\n",
            " |-- iptu: double (nullable = false)\n",
            " |-- valor: double (nullable = false)\n",
            " |-- Zona Central: integer (nullable = true)\n",
            " |-- Zona Norte: integer (nullable = true)\n",
            " |-- Zona Oeste: integer (nullable = true)\n",
            " |-- Zona Sul: integer (nullable = true)\n",
            "\n",
            "DEPOIS DO TRATAMENTO:\n",
            "root\n",
            " |-- id: string (nullable = true)\n",
            " |-- andar: integer (nullable = true)\n",
            " |-- area_util: double (nullable = false)\n",
            " |-- banheiros: integer (nullable = true)\n",
            " |-- caracteristicas: array (nullable = true)\n",
            " |    |-- element: string (containsNull = true)\n",
            " |-- quartos: integer (nullable = true)\n",
            " |-- suites: integer (nullable = true)\n",
            " |-- vaga: integer (nullable = true)\n",
            " |-- bairro: string (nullable = true)\n",
            " |-- cep: string (nullable = true)\n",
            " |-- cidade: string (nullable = true)\n",
            " |-- estado: string (nullable = true)\n",
            " |-- latitude: double (nullable = false)\n",
            " |-- longitude: double (nullable = false)\n",
            " |-- pais: string (nullable = true)\n",
            " |-- rua: string (nullable = true)\n",
            " |-- zona: string (nullable = true)\n",
            " |-- condominio: double (nullable = false)\n",
            " |-- iptu: double (nullable = false)\n",
            " |-- valor: double (nullable = false)\n",
            " |-- Zona Central: integer (nullable = true)\n",
            " |-- Zona Norte: integer (nullable = true)\n",
            " |-- Zona Oeste: integer (nullable = true)\n",
            " |-- Zona Sul: integer (nullable = true)\n",
            " |-- Condomínio fechado: integer (nullable = false)\n",
            " |-- Playground: integer (nullable = false)\n",
            " |-- Portão eletrônico: integer (nullable = false)\n",
            " |-- Piscina: integer (nullable = false)\n",
            " |-- Animais permitidos: integer (nullable = false)\n",
            " |-- Portaria 24h: integer (nullable = false)\n",
            " |-- Elevador: integer (nullable = false)\n",
            " |-- Academia: integer (nullable = false)\n",
            " |-- Salão de festas: integer (nullable = false)\n",
            " |-- Churrasqueira: integer (nullable = false)\n",
            "\n"
          ]
        }
      ]
    },
    {
      "cell_type": "code",
      "source": [
        "# Dropando colunas que foram transformadas em binárias e colunas que não agregaram ao modelo (por hora)\n",
        "df_final = df_join.drop(\"caracteristicas\", \"bairro\", \"zona\", \"id\", \"cep\", \"cidade\", \"estado\", \"latitude\", \"longitude\", \"pais\", \"rua\")\n",
        "df_final.show(n=5, truncate=True)"
      ],
      "metadata": {
        "colab": {
          "base_uri": "https://localhost:8080/"
        },
        "id": "pQXSFaFk_jZ1",
        "outputId": "1c325d59-0899-404a-89dc-587b7c0e2914"
      },
      "execution_count": null,
      "outputs": [
        {
          "output_type": "stream",
          "name": "stdout",
          "text": [
            "+-----+---------+---------+-------+------+----+----------+-------+---------+------------+----------+----------+--------+------------------+----------+-----------------+-------+------------------+------------+--------+--------+---------------+-------------+\n",
            "|andar|area_util|banheiros|quartos|suites|vaga|condominio|   iptu|    valor|Zona Central|Zona Norte|Zona Oeste|Zona Sul|Condomínio fechado|Playground|Portão eletrônico|Piscina|Animais permitidos|Portaria 24h|Elevador|Academia|Salão de festas|Churrasqueira|\n",
            "+-----+---------+---------+-------+------+----+----------+-------+---------+------------+----------+----------+--------+------------------+----------+-----------------+-------+------------------+------------+--------+--------+---------------+-------------+\n",
            "|    0|     90.0|        2|      3|     1|   0|     950.0| 2677.0| 949020.0|           0|         0|         0|       1|                 0|         0|                0|      0|                 0|           0|       1|       0|              0|            0|\n",
            "|    3|     64.0|        1|      2|     2|   1|     784.0|   80.0| 380000.0|           0|         0|         1|       0|                 1|         1|                1|      1|                 1|           1|       1|       1|              1|            1|\n",
            "|    0|    170.0|        3|      4|     1|   1|    2250.0| 3000.0|1450000.0|           0|         0|         0|       1|                 0|         0|                0|      0|                 0|           0|       1|       0|              0|            0|\n",
            "|    0|     82.0|        2|      3|     1|   1|    1515.0|  133.0| 580000.0|           0|         1|         0|       0|                 1|         0|                0|      1|                 0|           0|       1|       0|              0|            1|\n",
            "|    0|    286.0|        7|      7|     3|   4|    2148.0|15000.0|4500000.0|           0|         0|         0|       1|                 1|         0|                1|      0|                 0|           1|       0|       0|              0|            0|\n",
            "+-----+---------+---------+-------+------+----+----------+-------+---------+------------+----------+----------+--------+------------------+----------+-----------------+-------+------------------+------------+--------+--------+---------------+-------------+\n",
            "only showing top 5 rows\n",
            "\n"
          ]
        }
      ]
    },
    {
      "cell_type": "code",
      "source": [
        "# Salvando em Parquet\n",
        "df_final.write.parquet(\n",
        "    path='/content/drive/MyDrive/desafio_datascience/semana-2/base-parquet',\n",
        "    mode='overwrite'\n",
        ")"
      ],
      "metadata": {
        "id": "4bTumMIVJLMN"
      },
      "execution_count": null,
      "outputs": []
    },
    {
      "cell_type": "markdown",
      "source": [
        "# Vetorização dos dados\n"
      ],
      "metadata": {
        "id": "D12rYvMnJ5wP"
      }
    },
    {
      "cell_type": "code",
      "source": [
        "# Renomeando a coluna valor para passar ao modelo\n",
        "dataset = df_final.withColumnRenamed('valor','label')"
      ],
      "metadata": {
        "id": "ypYxbVKfJ_c1"
      },
      "execution_count": null,
      "outputs": []
    },
    {
      "cell_type": "code",
      "source": [
        "# Váriaveis X\n",
        "X = []\n",
        "\n",
        "for coluna in dataset.columns:\n",
        "  if \"label\" not in coluna:\n",
        "    X.append(coluna)"
      ],
      "metadata": {
        "id": "kGeapA8lKLqB"
      },
      "execution_count": null,
      "outputs": []
    },
    {
      "cell_type": "code",
      "source": [
        "# Instânciando o assembler\n",
        "assembler = VectorAssembler(inputCols = X, outputCol = 'features')"
      ],
      "metadata": {
        "id": "lWWVO8m7LQQT"
      },
      "execution_count": null,
      "outputs": []
    },
    {
      "cell_type": "code",
      "source": [
        "# Vetorização dos dados\n",
        "dataset_prep = assembler.transform(dataset).select(\"features\", \"label\")"
      ],
      "metadata": {
        "id": "NYc4FQeBLpiW"
      },
      "execution_count": null,
      "outputs": []
    },
    {
      "cell_type": "code",
      "source": [
        "dataset_prep.show(n=10, truncate= False)"
      ],
      "metadata": {
        "id": "D9t101xdNhQ_",
        "colab": {
          "base_uri": "https://localhost:8080/"
        },
        "outputId": "3efc34a7-38d6-4dee-8d26-67edc0313ed1"
      },
      "execution_count": null,
      "outputs": [
        {
          "output_type": "stream",
          "name": "stdout",
          "text": [
            "+----------------------------------------------------------------------------------------------------+---------+\n",
            "|features                                                                                            |label    |\n",
            "+----------------------------------------------------------------------------------------------------+---------+\n",
            "|(22,[1,2,3,4,6,7,11,18],[90.0,2.0,3.0,1.0,950.0,2677.0,1.0,1.0])                                    |949020.0 |\n",
            "|[3.0,64.0,1.0,2.0,2.0,1.0,784.0,80.0,0.0,0.0,1.0,0.0,1.0,1.0,1.0,1.0,1.0,1.0,1.0,1.0,1.0,1.0]       |380000.0 |\n",
            "|(22,[1,2,3,4,5,6,7,11,18],[170.0,3.0,4.0,1.0,1.0,2250.0,3000.0,1.0,1.0])                            |1450000.0|\n",
            "|(22,[1,2,3,4,5,6,7,9,12,15,18,21],[82.0,2.0,3.0,1.0,1.0,1515.0,133.0,1.0,1.0,1.0,1.0,1.0])          |580000.0 |\n",
            "|(22,[1,2,3,4,5,6,7,11,12,14,17],[286.0,7.0,7.0,3.0,4.0,2148.0,15000.0,1.0,1.0,1.0,1.0])             |4500000.0|\n",
            "|[0.0,50.0,1.0,2.0,0.0,1.0,320.0,80.0,1.0,0.0,0.0,0.0,1.0,1.0,1.0,1.0,1.0,1.0,1.0,1.0,1.0,1.0]       |330000.0 |\n",
            "|[0.0,43.0,1.0,2.0,0.0,1.0,285.0,0.0,0.0,0.0,1.0,0.0,1.0,1.0,1.0,0.0,1.0,1.0,0.0,1.0,1.0,1.0]        |22999.0  |\n",
            "|(22,[1,2,3,4,5,6,7,10,12,14,16,18,21],[122.0,1.0,3.0,1.0,2.0,810.0,3000.0,1.0,1.0,1.0,1.0,1.0,1.0]) |895000.0 |\n",
            "|[1234.0,245.0,5.0,4.0,2.0,3.0,3800.0,7900.0,0.0,0.0,1.0,0.0,1.0,1.0,1.0,1.0,1.0,1.0,1.0,1.0,1.0,1.0]|2080000.0|\n",
            "|(22,[0,1,2,3,4,5,6,7,10,14,16,18],[3.0,335.0,5.0,3.0,2.0,4.0,2800.0,13500.0,1.0,1.0,1.0,1.0])       |3980000.0|\n",
            "+----------------------------------------------------------------------------------------------------+---------+\n",
            "only showing top 10 rows\n",
            "\n"
          ]
        }
      ]
    },
    {
      "cell_type": "markdown",
      "source": [
        "# Ánalise de Correlação"
      ],
      "metadata": {
        "id": "UGvPQcgPbNIv"
      }
    },
    {
      "cell_type": "code",
      "source": [
        "# Gerando a correlação de Pearson com os dados vetorizados\n",
        "correlacao = Correlation.corr(dataset_prep, 'features').collect()[0][0]"
      ],
      "metadata": {
        "id": "HzcczKlebs7K"
      },
      "execution_count": null,
      "outputs": []
    },
    {
      "cell_type": "code",
      "source": [
        "# Criando a matriz de correlação\n",
        "df_correlacao = pd.DataFrame(correlacao.toArray(), columns=X, index=X)"
      ],
      "metadata": {
        "id": "O3CZuaTVdt1S"
      },
      "execution_count": null,
      "outputs": []
    },
    {
      "cell_type": "code",
      "source": [
        "# Plotando a correlação\n",
        "plt.figure(figsize=(12,10))\n",
        "paleta = sns.color_palette(\"light:salmon\", as_cmap=True)\n",
        "sns.heatmap(df_correlacao.round(1), annot=True, cmap=paleta)"
      ],
      "metadata": {
        "colab": {
          "base_uri": "https://localhost:8080/",
          "height": 706
        },
        "id": "12SS6Igrdwuj",
        "outputId": "af8e3a3d-5165-4133-ddc8-47d0faa0a5a2"
      },
      "execution_count": null,
      "outputs": [
        {
          "output_type": "execute_result",
          "data": {
            "text/plain": [
              "<matplotlib.axes._subplots.AxesSubplot at 0x7f17f2a7ad60>"
            ]
          },
          "metadata": {},
          "execution_count": 28
        },
        {
          "output_type": "display_data",
          "data": {
            "text/plain": [
              "<Figure size 864x720 with 2 Axes>"
            ],
            "image/png": "[encoded data removed]"
          },
          "metadata": {
            "needs_background": "light"
          }
        }
      ]
    },
    {
      "cell_type": "markdown",
      "source": [
        "* Não foi observado nenhuma correlação considerada forte"
      ],
      "metadata": {
        "id": "oq0EcAIXVmfP"
      }
    },
    {
      "cell_type": "markdown",
      "source": [
        "# Criação dos Modelos\n"
      ],
      "metadata": {
        "id": "UrNw1LWWOcHL"
      }
    },
    {
      "cell_type": "markdown",
      "source": [
        "## Linear Regression"
      ],
      "metadata": {
        "id": "PfVFhBCwNavo"
      }
    },
    {
      "cell_type": "code",
      "source": [
        "# Separando os dados em 70% para treino e 30% para teste\n",
        "treino, teste = dataset_prep.randomSplit([0.7, 0.3], seed=3)"
      ],
      "metadata": {
        "id": "x2j8zRQLOexM"
      },
      "execution_count": null,
      "outputs": []
    },
    {
      "cell_type": "code",
      "source": [
        "# Contagem dos dados separados\n",
        "print(f\"Treino: {treino.count()} | Teste: {teste.count()}\")"
      ],
      "metadata": {
        "colab": {
          "base_uri": "https://localhost:8080/"
        },
        "id": "bluQRxeNJX3z",
        "outputId": "c4a8c697-ce92-4e41-9d18-844d5b2e12a8"
      },
      "execution_count": null,
      "outputs": [
        {
          "output_type": "stream",
          "name": "stdout",
          "text": [
            "Treino: 37511 | Teste: 16166\n"
          ]
        }
      ]
    },
    {
      "cell_type": "code",
      "source": [
        "# Instânciando o modelo de regressão linear\n",
        "lr = LinearRegression()"
      ],
      "metadata": {
        "id": "zodRqXSqKq6Y"
      },
      "execution_count": null,
      "outputs": []
    },
    {
      "cell_type": "code",
      "source": [
        "# Treinando o modelo com os dados de treino\n",
        "modelo_lr = lr.fit(dataset=treino)"
      ],
      "metadata": {
        "id": "NhRS0SU7LFV0"
      },
      "execution_count": null,
      "outputs": []
    },
    {
      "cell_type": "code",
      "source": [
        "# Gerando previsões com os dados de treino\n",
        "previsao_treino = modelo_lr.transform(treino)\n",
        "previsao_treino.show(n=5)"
      ],
      "metadata": {
        "id": "jA37RKGhL9ck",
        "colab": {
          "base_uri": "https://localhost:8080/"
        },
        "outputId": "411fc66d-ac46-4860-e405-b66519a74577"
      },
      "execution_count": null,
      "outputs": [
        {
          "output_type": "stream",
          "name": "stdout",
          "text": [
            "+--------------------+---------+-----------------+\n",
            "|            features|    label|       prediction|\n",
            "+--------------------+---------+-----------------+\n",
            "|(22,[0,1,2,3,4,5,...| 262000.0|738005.7898309974|\n",
            "|(22,[0,1,2,3,4,5,...| 500000.0|732143.6225756299|\n",
            "|(22,[0,1,2,3,4,5,...| 659000.0|781941.7149877151|\n",
            "|(22,[0,1,2,3,4,5,...| 600000.0|866081.4525189355|\n",
            "|(22,[0,1,2,3,4,5,...|2450000.0|3906445.925093687|\n",
            "+--------------------+---------+-----------------+\n",
            "only showing top 5 rows\n",
            "\n"
          ]
        }
      ]
    },
    {
      "cell_type": "code",
      "source": [
        "# Gerando previsões com os dados de teste\n",
        "previsao_teste = modelo_lr.transform(teste)\n",
        "previsao_teste.show(n=5)"
      ],
      "metadata": {
        "colab": {
          "base_uri": "https://localhost:8080/"
        },
        "id": "ZfanqIjoSl9K",
        "outputId": "a05c9344-b1fe-44b0-ce15-b7f15499cc4b"
      },
      "execution_count": null,
      "outputs": [
        {
          "output_type": "stream",
          "name": "stdout",
          "text": [
            "+--------------------+---------+------------------+\n",
            "|            features|    label|        prediction|\n",
            "+--------------------+---------+------------------+\n",
            "|(22,[0,1,2,3,4,5,...| 800000.0| 746198.7525710424|\n",
            "|(22,[0,1,2,3,4,5,...| 690000.0| 695286.5977066882|\n",
            "|(22,[0,1,2,3,4,5,...| 650000.0| 690948.0906787853|\n",
            "|(22,[0,1,2,3,4,5,...|1250000.0|1270539.6213078403|\n",
            "|(22,[0,1,2,3,4,5,...| 340000.0|309104.97181997413|\n",
            "+--------------------+---------+------------------+\n",
            "only showing top 5 rows\n",
            "\n"
          ]
        }
      ]
    },
    {
      "cell_type": "markdown",
      "source": [
        "### Avaliação"
      ],
      "metadata": {
        "id": "YsAdpgUcNmsF"
      }
    },
    {
      "cell_type": "code",
      "source": [
        "# Criando métricas sobre o modelo\n",
        "avaliacao_treino = modelo_lr.evaluate(treino)"
      ],
      "metadata": {
        "id": "acvwXY6UM8q5"
      },
      "execution_count": null,
      "outputs": []
    },
    {
      "cell_type": "code",
      "source": [
        "# Gerando avaliação sobre os dados de teste\n",
        "avaliacao_teste = modelo_lr.evaluate(teste)"
      ],
      "metadata": {
        "id": "BwaellwJROyZ"
      },
      "execution_count": null,
      "outputs": []
    },
    {
      "cell_type": "code",
      "source": [
        "# R2 - Ajuste do modelo aos dados\n",
        "# RMESE - Avaliação dos erros do modelo\n",
        "print('Linear Regression')\n",
        "print(\"-\"*30)\n",
        "print(\"Dados de Treino\")\n",
        "print(\"-\"*30)\n",
        "print(f\"R²:{avaliacao_treino.r2}\")\n",
        "print(f\"RMSE: {avaliacao_treino.rootMeanSquaredError}\")\n",
        "print(\"\")\n",
        "print(\"-\"*30)\n",
        "print(\"Dados de Teste\")\n",
        "print(\"-\"*30)\n",
        "print(f\"R²:{avaliacao_teste.r2}\")\n",
        "print(f\"RMSE: {avaliacao_teste.rootMeanSquaredError}\")"
      ],
      "metadata": {
        "colab": {
          "base_uri": "https://localhost:8080/"
        },
        "id": "XibIZhKMRvNf",
        "outputId": "74ee417f-9331-4e9f-c6c2-00b383342c12"
      },
      "execution_count": null,
      "outputs": [
        {
          "output_type": "stream",
          "name": "stdout",
          "text": [
            "Linear Regression\n",
            "------------------------------\n",
            "Dados de Treino\n",
            "------------------------------\n",
            "R²:0.6790701336872011\n",
            "RMSE: 857865.8784947454\n",
            "\n",
            "------------------------------\n",
            "Dados de Teste\n",
            "------------------------------\n",
            "R²:0.661460783832051\n",
            "RMSE: 847388.9670313671\n"
          ]
        }
      ]
    },
    {
      "cell_type": "markdown",
      "source": [
        "## Decision Tree Regressor\n"
      ],
      "metadata": {
        "id": "DL_5Gz8zO_qx"
      }
    },
    {
      "cell_type": "code",
      "source": [
        "# Instânciando o modelo de Decision Tree Regressor (maxDepth com o valor 10 foi o que apresentou melhor performance)\n",
        "dtr = DecisionTreeRegressor(seed=10, maxDepth=10)"
      ],
      "metadata": {
        "id": "8Xc-9cN1PDuj"
      },
      "execution_count": null,
      "outputs": []
    },
    {
      "cell_type": "code",
      "source": [
        "# Treinando o modelo\n",
        "modelo_dtr = dtr.fit(treino)"
      ],
      "metadata": {
        "id": "OnT6iD3BPOXA"
      },
      "execution_count": null,
      "outputs": []
    },
    {
      "cell_type": "code",
      "source": [
        "# Gerando previsões com os dados de treino\n",
        "previsao_treino = modelo_dtr.transform(treino)\n",
        "previsao_treino.show(n=5)"
      ],
      "metadata": {
        "colab": {
          "base_uri": "https://localhost:8080/"
        },
        "id": "LIiy14IZPcqF",
        "outputId": "12eae0c3-7431-4d40-824e-0c6d273e681b"
      },
      "execution_count": null,
      "outputs": [
        {
          "output_type": "stream",
          "name": "stdout",
          "text": [
            "+--------------------+---------+-----------------+\n",
            "|            features|    label|       prediction|\n",
            "+--------------------+---------+-----------------+\n",
            "|(22,[0,1,2,3,4,5,...| 262000.0|542719.5139573071|\n",
            "|(22,[0,1,2,3,4,5,...| 500000.0|697917.6569343066|\n",
            "|(22,[0,1,2,3,4,5,...| 659000.0|654397.5215053763|\n",
            "|(22,[0,1,2,3,4,5,...| 600000.0|697917.6569343066|\n",
            "|(22,[0,1,2,3,4,5,...|2450000.0|3514611.111111111|\n",
            "+--------------------+---------+-----------------+\n",
            "only showing top 5 rows\n",
            "\n"
          ]
        }
      ]
    },
    {
      "cell_type": "code",
      "source": [
        "# Gerando previsões com os dados de teste\n",
        "previsao_teste_dtr = modelo_dtr.transform(teste)\n",
        "previsao_teste_dtr.show(n=5)"
      ],
      "metadata": {
        "colab": {
          "base_uri": "https://localhost:8080/"
        },
        "id": "V9y9-s15PkNU",
        "outputId": "889b836e-0945-45e0-f4a0-049d5d6d7c5d"
      },
      "execution_count": null,
      "outputs": [
        {
          "output_type": "stream",
          "name": "stdout",
          "text": [
            "+--------------------+---------+-----------------+\n",
            "|            features|    label|       prediction|\n",
            "+--------------------+---------+-----------------+\n",
            "|(22,[0,1,2,3,4,5,...| 800000.0|573242.7975206611|\n",
            "|(22,[0,1,2,3,4,5,...| 690000.0|573242.7975206611|\n",
            "|(22,[0,1,2,3,4,5,...| 650000.0|573242.7975206611|\n",
            "|(22,[0,1,2,3,4,5,...|1250000.0|804978.4673366834|\n",
            "|(22,[0,1,2,3,4,5,...| 340000.0|457277.5455729167|\n",
            "+--------------------+---------+-----------------+\n",
            "only showing top 5 rows\n",
            "\n"
          ]
        }
      ]
    },
    {
      "cell_type": "markdown",
      "source": [
        "### Avaliação"
      ],
      "metadata": {
        "id": "y-dRYynuRNqN"
      }
    },
    {
      "cell_type": "code",
      "source": [
        "# Instânciando o RegressionEvaluator (calcula as métricas R2 e RMSE)\n",
        "evaluator = RegressionEvaluator()"
      ],
      "metadata": {
        "id": "hoc31J6WPyQn"
      },
      "execution_count": null,
      "outputs": []
    },
    {
      "cell_type": "code",
      "source": [
        "# R2 - Ajuste do modelo aos dados\n",
        "# RMESE - Avaliação dos erros do modelo\n",
        "print('Decision Tree Regression')\n",
        "print(\"-\"*30)\n",
        "print(\"Dados de Treino\")\n",
        "print(\"-\"*30)\n",
        "print(\"R²: %f\" % evaluator.evaluate(previsao_treino, {evaluator.metricName: \"r2\"}))\n",
        "print(\"RMSE: %f\" % evaluator.evaluate(previsao_treino, {evaluator.metricName: \"rmse\"}))\n",
        "print(\"\")\n",
        "print(\"-\"*30)\n",
        "print(\"Dados de Teste\")\n",
        "print(\"-\"*30)\n",
        "print(\"R²: %f\" % evaluator.evaluate(previsao_teste_dtr, {evaluator.metricName: \"r2\"}))\n",
        "print(\"RMSE: %f\" % evaluator.evaluate(previsao_teste_dtr, {evaluator.metricName: \"rmse\"}))"
      ],
      "metadata": {
        "colab": {
          "base_uri": "https://localhost:8080/"
        },
        "id": "bYaz8bylRr2k",
        "outputId": "6b224032-686a-4e4d-a6a7-bccd05d0c732"
      },
      "execution_count": null,
      "outputs": [
        {
          "output_type": "stream",
          "name": "stdout",
          "text": [
            "Decision Tree Regression\n",
            "------------------------------\n",
            "Dados de Treino\n",
            "------------------------------\n",
            "R²: 0.879844\n",
            "RMSE: 524911.642634\n",
            "\n",
            "------------------------------\n",
            "Dados de Teste\n",
            "------------------------------\n",
            "R²: 0.808634\n",
            "RMSE: 637105.029844\n"
          ]
        }
      ]
    },
    {
      "cell_type": "markdown",
      "source": [
        "## Random Forest"
      ],
      "metadata": {
        "id": "fdVADl3wVwoP"
      }
    },
    {
      "cell_type": "code",
      "source": [
        "# Instânciando o modelo de Random Forest\n",
        "rfr = RandomForestRegressor(seed=10, maxDepth=14, numTrees=30)"
      ],
      "metadata": {
        "id": "bhpvzUKuWQxa"
      },
      "execution_count": null,
      "outputs": []
    },
    {
      "cell_type": "code",
      "source": [
        "# Treinando o modelo com os dados de treino\n",
        "modelo_rfr = rfr.fit(treino)"
      ],
      "metadata": {
        "id": "h65fVuB1WWE4"
      },
      "execution_count": null,
      "outputs": []
    },
    {
      "cell_type": "code",
      "source": [
        "# Gerando previsões com os dados de treino\n",
        "previsao_treino = modelo_rfr.transform(treino)\n",
        "previsao_treino.show(n=5)"
      ],
      "metadata": {
        "colab": {
          "base_uri": "https://localhost:8080/"
        },
        "id": "LFrrIqEFW6WL",
        "outputId": "a8881e65-5865-4e5d-a0d2-6ec41a1fd0a7"
      },
      "execution_count": null,
      "outputs": [
        {
          "output_type": "stream",
          "name": "stdout",
          "text": [
            "+--------------------+---------+------------------+\n",
            "|            features|    label|        prediction|\n",
            "+--------------------+---------+------------------+\n",
            "|(22,[0,1,2,3,4,5,...| 262000.0|459579.93150954094|\n",
            "|(22,[0,1,2,3,4,5,...| 500000.0| 574835.7760693228|\n",
            "|(22,[0,1,2,3,4,5,...| 659000.0| 693835.8113615337|\n",
            "|(22,[0,1,2,3,4,5,...| 600000.0| 673116.2616255492|\n",
            "|(22,[0,1,2,3,4,5,...|2450000.0|2396257.2022222225|\n",
            "+--------------------+---------+------------------+\n",
            "only showing top 5 rows\n",
            "\n"
          ]
        }
      ]
    },
    {
      "cell_type": "code",
      "source": [
        "# Gerando previsões com os dados de teste\n",
        "previsao_teste = modelo_rfr.transform(teste)\n",
        "previsao_teste.show(n=5)"
      ],
      "metadata": {
        "colab": {
          "base_uri": "https://localhost:8080/"
        },
        "id": "GcJ4SGaVXLet",
        "outputId": "9034ff98-7c11-4db2-8e5d-ce20bd3e36d3"
      },
      "execution_count": null,
      "outputs": [
        {
          "output_type": "stream",
          "name": "stdout",
          "text": [
            "+--------------------+---------+-----------------+\n",
            "|            features|    label|       prediction|\n",
            "+--------------------+---------+-----------------+\n",
            "|(22,[0,1,2,3,4,5,...| 800000.0|616090.8890661992|\n",
            "|(22,[0,1,2,3,4,5,...| 690000.0|582568.4354890217|\n",
            "|(22,[0,1,2,3,4,5,...| 650000.0|535972.2213520458|\n",
            "|(22,[0,1,2,3,4,5,...|1250000.0| 939064.484593467|\n",
            "|(22,[0,1,2,3,4,5,...| 340000.0|370298.7564562624|\n",
            "+--------------------+---------+-----------------+\n",
            "only showing top 5 rows\n",
            "\n"
          ]
        }
      ]
    },
    {
      "cell_type": "markdown",
      "source": [
        "### Avaliação"
      ],
      "metadata": {
        "id": "yBpF1ng1XmeB"
      }
    },
    {
      "cell_type": "code",
      "source": [
        "# R2 - Ajuste do modelo aos dados\n",
        "# RMESE - Avaliação dos erros do modelo\n",
        "print('Random Forest Regression')\n",
        "print(\"-\"*30)\n",
        "print(\"Dados de Treino\")\n",
        "print(\"-\"*30)\n",
        "print(\"R²: %f\" % evaluator.evaluate(previsao_treino, {evaluator.metricName: \"r2\"}))\n",
        "print(\"RMSE: %f\" % evaluator.evaluate(previsao_treino, {evaluator.metricName: \"rmse\"}))\n",
        "print(\"\")\n",
        "print(\"-\"*30)\n",
        "print(\"Dados de Teste\")\n",
        "print(\"-\"*30)\n",
        "print(\"R²: %f\" % evaluator.evaluate(previsao_teste, {evaluator.metricName: \"r2\"}))\n",
        "print(\"RMSE: %f\" % evaluator.evaluate(previsao_teste, {evaluator.metricName: \"rmse\"}))"
      ],
      "metadata": {
        "colab": {
          "base_uri": "https://localhost:8080/"
        },
        "id": "RzD4GRijXVGy",
        "outputId": "25ff7244-f6bf-46a8-d838-15dadd2509ea"
      },
      "execution_count": null,
      "outputs": [
        {
          "output_type": "stream",
          "name": "stdout",
          "text": [
            "Random Forest Regression\n",
            "------------------------------\n",
            "Dados de Treino\n",
            "------------------------------\n",
            "R²: 0.879844\n",
            "RMSE: 524911.642634\n",
            "\n",
            "------------------------------\n",
            "Dados de Teste\n",
            "------------------------------\n",
            "R²: 0.856002\n",
            "RMSE: 552657.589505\n"
          ]
        }
      ]
    }
  ]
}