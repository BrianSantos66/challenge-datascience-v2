{
  "cells": [
    {
      "cell_type": "markdown",
      "source": [
        "<a href=\"https://colab.research.google.com/drive/1uDUdwJ3H841rV6Mb8D-1jg3VLhRlRSP7\" target=\"_parent\"><img src=\"https://colab.research.google.com/assets/colab-badge.svg\" alt=\"Open In Colab\"/></a>"
      ],
      "metadata": {
        "id": "tHhDrS3YAb5D"
      }
    },
    {
      "cell_type": "markdown",
      "metadata": {
        "id": "_Sbn1HhC_ijg"
      },
      "source": [
        "# Instalação das dependências e configuração do ambiente"
      ]
    },
    {
      "cell_type": "code",
      "execution_count": null,
      "metadata": {
        "colab": {
          "base_uri": "https://localhost:8080/"
        },
        "id": "DJkYHCG65LJ_",
        "outputId": "3b45a806-78dd-43f9-864b-e039a5c078b1"
      },
      "outputs": [
        {
          "output_type": "stream",
          "name": "stdout",
          "text": [
            "Looking in indexes: https://pypi.org/simple, https://us-python.pkg.dev/colab-wheels/public/simple/\n",
            "Requirement already satisfied: pyspark in /usr/local/lib/python3.8/dist-packages (3.3.1)\n",
            "Requirement already satisfied: py4j==0.10.9.5 in /usr/local/lib/python3.8/dist-packages (from pyspark) (0.10.9.5)\n"
          ]
        }
      ],
      "source": [
        "# Instalação do PySpark e importação das bibliotecas\n",
        "!pip install pyspark\n",
        "from pyspark.sql import SparkSession\n",
        "from pyspark.sql.types import DoubleType, StringType, IntegerType, LongType\n",
        "from pyspark.sql import functions as f\n",
        "from google.colab import drive\n",
        "import os\n",
        "import zipfile"
      ]
    },
    {
      "cell_type": "code",
      "execution_count": null,
      "metadata": {
        "id": "jxIbo6Dv_hyL"
      },
      "outputs": [],
      "source": [
        "# Criação da seção\n",
        "spark = SparkSession.builder\\\n",
        "     .master('local[*]')\\\n",
        "    .appName(\"analise_dados\")\\\n",
        "    .config(\"spark.ui.port\", '4050')\\\n",
        "    .getOrCreate()"
      ]
    },
    {
      "cell_type": "code",
      "execution_count": null,
      "metadata": {
        "colab": {
          "base_uri": "https://localhost:8080/"
        },
        "id": "0IDKrn7PAbJU",
        "outputId": "d0d77294-4a26-429e-ac4f-3f23b1de670b"
      },
      "outputs": [
        {
          "output_type": "stream",
          "name": "stdout",
          "text": [
            "Drive already mounted at /content/drive; to attempt to forcibly remount, call drive.mount(\"/content/drive\", force_remount=True).\n"
          ]
        }
      ],
      "source": [
        "# Conexão com o Google Drive\n",
        "drive.mount('/content/drive')"
      ]
    },
    {
      "cell_type": "markdown",
      "metadata": {
        "id": "9nE9hDQ6BDX2"
      },
      "source": [
        "## Carregando os dados\n"
      ]
    },
    {
      "cell_type": "code",
      "execution_count": null,
      "metadata": {
        "id": "JoDqZudYBMYm"
      },
      "outputs": [],
      "source": [
        "# Extraindo o zip para uma pasta do Drive\n",
        "zipfile.ZipFile(\"/content/drive/MyDrive/desafio_datascience/semana-1.zip\", \"r\").extractall(\"/content/drive/MyDrive/desafio_datascience/semana-1/\")"
      ]
    },
    {
      "cell_type": "code",
      "execution_count": null,
      "metadata": {
        "id": "CFZzvGKsB-14"
      },
      "outputs": [],
      "source": [
        "# Leitura do arquivo\n",
        "path = \"/content/drive/MyDrive/desafio_datascience/semana-1/dataset_bruto.json\"\n",
        "dados = spark.read.json(path)"
      ]
    },
    {
      "cell_type": "markdown",
      "metadata": {
        "id": "uIjbe6cCDASi"
      },
      "source": [
        "# Exploração dos dados"
      ]
    },
    {
      "cell_type": "code",
      "execution_count": null,
      "metadata": {
        "colab": {
          "base_uri": "https://localhost:8080/"
        },
        "id": "M0CJR46bFFzZ",
        "outputId": "9f5d10a4-6600-47e8-e696-a02fe751d364"
      },
      "outputs": [
        {
          "output_type": "stream",
          "name": "stdout",
          "text": [
            "Quantidade de linhas do datafame: 89083\n"
          ]
        }
      ],
      "source": [
        "print(f\"Quantidade de linhas do datafame: {dados.count()}\")"
      ]
    },
    {
      "cell_type": "code",
      "execution_count": null,
      "metadata": {
        "colab": {
          "base_uri": "https://localhost:8080/"
        },
        "id": "DjVlMJi8DDYt",
        "outputId": "bb2b2169-af0a-43b4-da47-1c05d8fc4e37"
      },
      "outputs": [
        {
          "output_type": "stream",
          "name": "stdout",
          "text": [
            "+----------------------------------------------------------------------------------------------------------------------------------------------------------------------------------------------------------------------------------------------------------------------------------------------------+--------------------------------------------------------------------------------------------------------------------------------------------------------------------------------------------------------------------------------------------------------------------------------------------------------------------------------------------------------------------------------------------------------------------------------------------------------------------------------------------------------------------------------------------------------------------------------------------------------+------------------------------------------------+\n",
            "|anuncio                                                                                                                                                                                                                                                                                             |imagens                                                                                                                                                                                                                                                                                                                                                                                                                                                                                                                                                                                                 |usuario                                         |\n",
            "+----------------------------------------------------------------------------------------------------------------------------------------------------------------------------------------------------------------------------------------------------------------------------------------------------+--------------------------------------------------------------------------------------------------------------------------------------------------------------------------------------------------------------------------------------------------------------------------------------------------------------------------------------------------------------------------------------------------------------------------------------------------------------------------------------------------------------------------------------------------------------------------------------------------------+------------------------------------------------+\n",
            "|{0, [], [16], [0], [], {Centro, 20061003, Rio de Janeiro, Rio de Janeiro, -22.906082, -43.18671, BR, Rua Buenos Aires, Zona Central}, 47d553e0-79f2-4a46-9390-5a3c962740c2, [0], [0], Usado, Outros, Comercial, [1], [{260, 107, Venda, 10000}]}                                                    |[{39d6282a-71f3-47bc-94aa-909351ecd881, https://api.images.insightplaces.com.br/{type}/{width}/{height}/1b08098d-f2dc-439c-b604-a4e50d12774b.jpg}]                                                                                                                                                                                                                                                                                                                                                                                                                                                      |{9d44563d-3405-4e84-9381-35b7cf40a9a4, Frank}   |\n",
            "|{0, [], [14], [0], [], {Centro, 20051040, Rio de Janeiro, Rio de Janeiro, -22.902536, -43.18434, BR, Avenida Passos, Zona Central}, b6ffbae1-17f6-4870-9950-e998ac1c8d6a, [0], [], Usado, Outros, Comercial, [0], [{260, 107, Venda, 10000}]}                                                       |[{23d2b3ab-45b0-47f2-a27f-ffbe066c2c38, https://api.images.insightplaces.com.br/{type}/{width}/{height}/7a65b929-fe46-4a60-ae31-81faf2edb3c6.jpg}, {1b5f71f8-1aec-4b82-8d4c-67540d204a59, https://api.images.insightplaces.com.br/{type}/{width}/{height}/82e92d72-002a-4d3b-8063-16d4d65474b3.jpg}, {9bb11688-7dc9-48b9-bc1d-6a7a2dbcd553, https://api.images.insightplaces.com.br/{type}/{width}/{height}/23be0c2c-4c8f-4718-8126-6f160bb3efcc.jpg}, {1aaf6095-70bc-4f1f-87a4-fe3534a1bd2a, https://api.images.insightplaces.com.br/{type}/{width}/{height}/0ae382f4-b1ac-4ad9-b6cf-d9b4d7d01908.jpg}]|{36245be7-70fe-40cd-84d4-70a57dc8f976, Caroline}|\n",
            "|{0, [1026], [1026], [0], [], {Maria da Graça, 20785360, Rio de Janeiro, Rio de Janeiro, -22.885516, -43.269083, BR, Rua Luís de Brito, Zona Norte}, 1fb030a5-9e3e-4a1d-93cd-cd2d8a215e11, [0], [], Usado, Outros, Comercial, [0], [{null, 1613, Venda, 10000}]}                                     |[{1da65baa-368b-490f-bef7-1834b9a428c1, https://api.images.insightplaces.com.br/{type}/{width}/{height}/b06fe423-6f18-43bb-b0e3-a569158885d2.jpg}]                                                                                                                                                                                                                                                                                                                                                                                                                                                      |{9dc415d8-1397-4d8d-8425-b8310fad309d, Oliver}  |\n",
            "|{0, [120], [120], [0], [Portão eletrônico, Condomínio fechado], {Campo Grande, 23095071, Rio de Janeiro, Rio de Janeiro, -22.885028, -43.561668, BR, Estrada Guandu do Sape, Zona Oeste}, ac6cb348-69d6-45af-9589-dc34099370d8, [0], [], Usado, Outros, Residencial, [], [{80, null, Venda, 10000}]}|[{79b542c6-49b4-4f06-80b5-ef4fcdf98f76, https://api.images.insightplaces.com.br/{type}/{width}/{height}/b9688b1a-e6e8-4027-9368-d8298bc5ac40.jpg}]                                                                                                                                                                                                                                                                                                                                                                                                                                                      |{9911a2df-f299-4a73-a384-281417abaf69, Matthew} |\n",
            "|{0, [3], [3], [0], [], {São Cristóvão, 20931670, Rio de Janeiro, Rio de Janeiro, -22.885912, -43.219296, BR, Rua Monsenhor Manuel Gomes, Zona Norte}, e032b908-ef42-4d4a-8125-eba4792bacbe, [0], [], Usado, Outros, Residencial, [], [{0, 0, Venda, 5000}]}                                         |[{e2bc497b-6510-4731-8942-97b3d3cdab5e, https://api.images.insightplaces.com.br/{type}/{width}/{height}/bd7e2c54-8d10-4148-806d-0d656ff80fc2.jpg}]                                                                                                                                                                                                                                                                                                                                                                                                                                                      |{240a7aab-12e5-4069-9a2c-9dca4c4f9c68, Jude}    |\n",
            "+----------------------------------------------------------------------------------------------------------------------------------------------------------------------------------------------------------------------------------------------------------------------------------------------------+--------------------------------------------------------------------------------------------------------------------------------------------------------------------------------------------------------------------------------------------------------------------------------------------------------------------------------------------------------------------------------------------------------------------------------------------------------------------------------------------------------------------------------------------------------------------------------------------------------+------------------------------------------------+\n",
            "\n"
          ]
        }
      ],
      "source": [
        "# Exibição das 5 primeiras linhas do dataframe\n",
        "dados.limit(5).show(truncate= False)"
      ]
    },
    {
      "cell_type": "code",
      "execution_count": null,
      "metadata": {
        "colab": {
          "base_uri": "https://localhost:8080/"
        },
        "id": "wt_hqaWxDFt6",
        "outputId": "89c4e4ea-664f-4637-f2a9-27c1b088b59d"
      },
      "outputs": [
        {
          "output_type": "stream",
          "name": "stdout",
          "text": [
            "root\n",
            " |-- anuncio: struct (nullable = true)\n",
            " |    |-- andar: long (nullable = true)\n",
            " |    |-- area_total: array (nullable = true)\n",
            " |    |    |-- element: string (containsNull = true)\n",
            " |    |-- area_util: array (nullable = true)\n",
            " |    |    |-- element: string (containsNull = true)\n",
            " |    |-- banheiros: array (nullable = true)\n",
            " |    |    |-- element: long (containsNull = true)\n",
            " |    |-- caracteristicas: array (nullable = true)\n",
            " |    |    |-- element: string (containsNull = true)\n",
            " |    |-- endereco: struct (nullable = true)\n",
            " |    |    |-- bairro: string (nullable = true)\n",
            " |    |    |-- cep: string (nullable = true)\n",
            " |    |    |-- cidade: string (nullable = true)\n",
            " |    |    |-- estado: string (nullable = true)\n",
            " |    |    |-- latitude: double (nullable = true)\n",
            " |    |    |-- longitude: double (nullable = true)\n",
            " |    |    |-- pais: string (nullable = true)\n",
            " |    |    |-- rua: string (nullable = true)\n",
            " |    |    |-- zona: string (nullable = true)\n",
            " |    |-- id: string (nullable = true)\n",
            " |    |-- quartos: array (nullable = true)\n",
            " |    |    |-- element: long (containsNull = true)\n",
            " |    |-- suites: array (nullable = true)\n",
            " |    |    |-- element: long (containsNull = true)\n",
            " |    |-- tipo_anuncio: string (nullable = true)\n",
            " |    |-- tipo_unidade: string (nullable = true)\n",
            " |    |-- tipo_uso: string (nullable = true)\n",
            " |    |-- vaga: array (nullable = true)\n",
            " |    |    |-- element: long (containsNull = true)\n",
            " |    |-- valores: array (nullable = true)\n",
            " |    |    |-- element: struct (containsNull = true)\n",
            " |    |    |    |-- condominio: string (nullable = true)\n",
            " |    |    |    |-- iptu: string (nullable = true)\n",
            " |    |    |    |-- tipo: string (nullable = true)\n",
            " |    |    |    |-- valor: string (nullable = true)\n",
            " |-- imagens: array (nullable = true)\n",
            " |    |-- element: struct (containsNull = true)\n",
            " |    |    |-- id: string (nullable = true)\n",
            " |    |    |-- url: string (nullable = true)\n",
            " |-- usuario: struct (nullable = true)\n",
            " |    |-- id: string (nullable = true)\n",
            " |    |-- nome: string (nullable = true)\n",
            "\n"
          ]
        }
      ],
      "source": [
        "# Schema das colunas\n",
        "dados.printSchema()"
      ]
    },
    {
      "cell_type": "markdown",
      "metadata": {
        "id": "UeRPGnwPuwB7"
      },
      "source": [
        "## Criando um dataframe separado com as informações da coluna anuncio"
      ]
    },
    {
      "cell_type": "code",
      "execution_count": null,
      "metadata": {
        "id": "_JYIDA43Plth",
        "colab": {
          "base_uri": "https://localhost:8080/"
        },
        "outputId": "81768f47-0e31-4c5e-af10-d0cbc2990ada"
      },
      "outputs": [
        {
          "output_type": "stream",
          "name": "stdout",
          "text": [
            "+-----+----------+---------+---------+--------------------+--------------------+-------+------+------------+------------+-----------+----+--------------------+--------+--------------+--------------+----------+----------+----+--------------------+----------+----------+------+-------+---------+\n",
            "|andar|area_total|area_util|banheiros|     caracteristicas|                  id|quartos|suites|tipo_anuncio|tipo_unidade|   tipo_uso|vaga|              bairro|     cep|        cidade|        estado|  latitude| longitude|pais|                 rua|      zona|condominio|  iptu|   tipo|    valor|\n",
            "+-----+----------+---------+---------+--------------------+--------------------+-------+------+------------+------------+-----------+----+--------------------+--------+--------------+--------------+----------+----------+----+--------------------+----------+----------+------+-------+---------+\n",
            "|    0|     [410]|    [410]|      [3]|          [Elevador]|00012605-9cae-45b...|    [4]|   [1]|       Usado| Apartamento|Residencial| [1]|             Ipanema|22411000|Rio de Janeiro|Rio de Janeiro| -22.98365|-43.196836|  BR|  Rua Barão da Torre|  Zona Sul|    [3300]|[5780]|[Venda]|[4600000]|\n",
            "|    0|     [100]|    [100]|      [1]|                  []|00012c24-fe8c-470...|    [2]|   [0]|       Usado|        Casa|Residencial| [1]|        Campo Grande|23052320|Rio de Janeiro|Rio de Janeiro|-22.905071|-43.541739|  BR|         Rua Camaipi|Zona Oeste|    [null]|   [1]|[Venda]| [199070]|\n",
            "|    1|      [50]|     [50]|      [1]|[Elevador, Salão ...|0002dfaf-7735-481...|    [1]|    []|       Usado| Apartamento|Residencial| [1]|         Vila Isabel|20550220|Rio de Janeiro|Rio de Janeiro|-22.910847|-43.240793|  BR|     Rua Jorge Rudge|Zona Norte|     [500]| [600]|[Venda]| [360000]|\n",
            "|    0|     [148]|    [148]|      [4]|[Churrasqueira, E...|0003ce76-949d-484...|    [4]|   [2]|       Usado| Apartamento|Residencial| [2]|         Jacarepaguá|22775045|Rio de Janeiro|Rio de Janeiro|-22.971495| -43.38404|  BR|Rua Alfredo Cesch...|Zona Oeste|       [0]|   [0]|[Venda]|[1200000]|\n",
            "|    0|     [800]|    [420]|      [5]|                  []|000580d0-54c4-4e0...|    [4]|   [4]|       Usado|        Casa|Residencial| [4]|Recreio dos Bande...|22790869|Rio de Janeiro|Rio de Janeiro|-23.025375|-43.493552|  BR|Avenida André Gra...|Zona Oeste|     [995]|[7800]|[Venda]|[2700000]|\n",
            "+-----+----------+---------+---------+--------------------+--------------------+-------+------+------------+------------+-----------+----+--------------------+--------+--------------+--------------+----------+----------+----+--------------------+----------+----------+------+-------+---------+\n",
            "only showing top 5 rows\n",
            "\n"
          ]
        }
      ],
      "source": [
        "df1 = dados\\\n",
        "\t\t.select(dados.anuncio.id.alias(\"id_join\"),\"anuncio.*\")\\\n",
        "    .drop(\"endereco\", \"valores\")\n",
        "  \n",
        "df2 = dados\\\n",
        "      .select(dados.anuncio.id.alias(\"id_join\"), \"anuncio.endereco.*\",\"anuncio.valores.condominio\", \"anuncio.valores.iptu\", \"anuncio.valores.tipo\", \"anuncio.valores.valor\")\n",
        "\n",
        "df_anuncio = df1.join(df2, on=[\"id_join\"], how=\"outer\")\n",
        "df_anuncio = df_anuncio.drop(\"id_join\")\n",
        "df_anuncio.show(n=5)"
      ]
    },
    {
      "cell_type": "code",
      "execution_count": null,
      "metadata": {
        "id": "eSpKsEL18tEj",
        "colab": {
          "base_uri": "https://localhost:8080/"
        },
        "outputId": "f40b10b8-8924-455d-cd91-81b1fe362b46"
      },
      "outputs": [
        {
          "output_type": "stream",
          "name": "stdout",
          "text": [
            "root\n",
            " |-- andar: long (nullable = true)\n",
            " |-- area_total: array (nullable = true)\n",
            " |    |-- element: string (containsNull = true)\n",
            " |-- area_util: array (nullable = true)\n",
            " |    |-- element: string (containsNull = true)\n",
            " |-- banheiros: array (nullable = true)\n",
            " |    |-- element: long (containsNull = true)\n",
            " |-- caracteristicas: array (nullable = true)\n",
            " |    |-- element: string (containsNull = true)\n",
            " |-- id: string (nullable = true)\n",
            " |-- quartos: array (nullable = true)\n",
            " |    |-- element: long (containsNull = true)\n",
            " |-- suites: array (nullable = true)\n",
            " |    |-- element: long (containsNull = true)\n",
            " |-- tipo_anuncio: string (nullable = true)\n",
            " |-- tipo_unidade: string (nullable = true)\n",
            " |-- tipo_uso: string (nullable = true)\n",
            " |-- vaga: array (nullable = true)\n",
            " |    |-- element: long (containsNull = true)\n",
            " |-- bairro: string (nullable = true)\n",
            " |-- cep: string (nullable = true)\n",
            " |-- cidade: string (nullable = true)\n",
            " |-- estado: string (nullable = true)\n",
            " |-- latitude: double (nullable = true)\n",
            " |-- longitude: double (nullable = true)\n",
            " |-- pais: string (nullable = true)\n",
            " |-- rua: string (nullable = true)\n",
            " |-- zona: string (nullable = true)\n",
            " |-- condominio: array (nullable = true)\n",
            " |    |-- element: string (containsNull = true)\n",
            " |-- iptu: array (nullable = true)\n",
            " |    |-- element: string (containsNull = true)\n",
            " |-- tipo: array (nullable = true)\n",
            " |    |-- element: string (containsNull = true)\n",
            " |-- valor: array (nullable = true)\n",
            " |    |-- element: string (containsNull = true)\n",
            "\n"
          ]
        }
      ],
      "source": [
        "# Schema das colunas\n",
        "df_anuncio.printSchema()"
      ]
    },
    {
      "cell_type": "markdown",
      "metadata": {
        "id": "tUFJNw2qQEin"
      },
      "source": [
        "## Frequência e filtro das coluna tipo_uso, tipo_unidade e tipo_anuncio"
      ]
    },
    {
      "cell_type": "code",
      "execution_count": null,
      "metadata": {
        "colab": {
          "base_uri": "https://localhost:8080/"
        },
        "id": "ESTns2VQQa4p",
        "outputId": "deafb041-43f8-4e2a-934a-ae41a47a6372"
      },
      "outputs": [
        {
          "output_type": "stream",
          "name": "stdout",
          "text": [
            "+-----------+----------+\n",
            "|   tipo_uso|frequencia|\n",
            "+-----------+----------+\n",
            "|  Comercial|      4542|\n",
            "|Residencial|     84541|\n",
            "+-----------+----------+\n",
            "\n"
          ]
        }
      ],
      "source": [
        "# Frequência da coluna tipo_uso\n",
        "df_anuncio\\\n",
        "  .select(\"tipo_uso\")\\\n",
        "  .groupBy(\"tipo_uso\")\\\n",
        "  .agg(\n",
        "      f.count(\"tipo_uso\").alias(\"frequencia\"))\\\n",
        "  .show() "
      ]
    },
    {
      "cell_type": "code",
      "execution_count": null,
      "metadata": {
        "colab": {
          "base_uri": "https://localhost:8080/"
        },
        "id": "SBx3Zj9kZGxb",
        "outputId": "687389c6-a38b-442c-f6e3-3c221415e0dd"
      },
      "outputs": [
        {
          "output_type": "stream",
          "name": "stdout",
          "text": [
            "Comercial: 5.10%, Residencial: 94.90%\n"
          ]
        }
      ],
      "source": [
        "comercial = 4542\n",
        "residencial = 84541\n",
        "total = comercial + residencial\n",
        "\n",
        "print(f\"Comercial: {(comercial / total)*100:.2f}%, Residencial: {(residencial / total)*100:.2f}%\")"
      ]
    },
    {
      "cell_type": "markdown",
      "metadata": {
        "id": "0wmZinGzSayS"
      },
      "source": [
        "- É possivel observar que a base possui mais imóveis do tipo Residencial (94.90%), enquanto o tipo Comercial equivale a 5.10% dos dados"
      ]
    },
    {
      "cell_type": "code",
      "execution_count": null,
      "metadata": {
        "colab": {
          "base_uri": "https://localhost:8080/"
        },
        "id": "HwmLBqwnSEDw",
        "outputId": "0c01cbf9-0c72-4654-878a-e932d63fdb74"
      },
      "outputs": [
        {
          "output_type": "stream",
          "name": "stdout",
          "text": [
            "+------------+----------+\n",
            "|tipo_unidade|Frequência|\n",
            "+------------+----------+\n",
            "|      Outros|     11963|\n",
            "| Apartamento|     66801|\n",
            "|        Casa|     10319|\n",
            "+------------+----------+\n",
            "\n"
          ]
        }
      ],
      "source": [
        "# Frequência da coluna tipo_unidade\n",
        "df_anuncio\\\n",
        "  .select(\"tipo_unidade\")\\\n",
        "  .groupBy(\"tipo_unidade\")\\\n",
        "  .agg(\n",
        "      f.count(\"tipo_unidade\").alias(\"Frequência\")\n",
        "      )\\\n",
        "  .show()"
      ]
    },
    {
      "cell_type": "code",
      "execution_count": null,
      "metadata": {
        "colab": {
          "base_uri": "https://localhost:8080/"
        },
        "id": "aKJXqTDVaVzY",
        "outputId": "89cabcc9-dad4-4138-effc-749ddf75b042"
      },
      "outputs": [
        {
          "output_type": "stream",
          "name": "stdout",
          "text": [
            "Outros: 13.43%, Apartamento: 74.99%, Casa: 11.58%\n"
          ]
        }
      ],
      "source": [
        "outros = 11963\n",
        "apartamento = 66801\n",
        "casa = 10319\n",
        "total = outros + apartamento + casa\n",
        "\n",
        "print(f\"Outros: {(outros / total)*100:.2f}%, Apartamento: {(apartamento / total)*100:.2f}%, Casa: {(casa / total)*100:.2f}%\")"
      ]
    },
    {
      "cell_type": "markdown",
      "metadata": {
        "id": "9kxvYa2Kato7"
      },
      "source": [
        "- O tipo de unidade que mais aparece é Apartamento (74.99%), a base apresenta mais dados com o tipo \"Outros\" (13.43%) do que com o tipo \"Casa\" (11.58%)"
      ]
    },
    {
      "cell_type": "code",
      "execution_count": null,
      "metadata": {
        "colab": {
          "base_uri": "https://localhost:8080/"
        },
        "id": "b5Ef8XkrSHrL",
        "outputId": "8a79be80-cda3-41df-e91a-18e74c339b94"
      },
      "outputs": [
        {
          "output_type": "stream",
          "name": "stdout",
          "text": [
            "+------------+----------+\n",
            "|tipo_anuncio|Frequência|\n",
            "+------------+----------+\n",
            "|       Usado|     88827|\n",
            "|  Lançamento|       256|\n",
            "+------------+----------+\n",
            "\n"
          ]
        }
      ],
      "source": [
        "# Frequência da coluna tipo_anuncio\n",
        "df_anuncio\\\n",
        "  .select(\"tipo_anuncio\")\\\n",
        "  .groupBy(\"tipo_anuncio\")\\\n",
        "  .agg(\n",
        "      f.count(\"tipo_anuncio\").alias(\"Frequência\")\n",
        "      )\\\n",
        "  .show()"
      ]
    },
    {
      "cell_type": "code",
      "execution_count": null,
      "metadata": {
        "colab": {
          "base_uri": "https://localhost:8080/"
        },
        "id": "UOgCLxOSaWmm",
        "outputId": "4a84fa72-0deb-4553-81e1-f33a5176e0f6"
      },
      "outputs": [
        {
          "output_type": "stream",
          "name": "stdout",
          "text": [
            "Usado: 99.71%, Lançamento: 0.29%\n"
          ]
        }
      ],
      "source": [
        "usado = 88827\n",
        "lançamento = 256\n",
        "total = usado + lançamento\n",
        "\n",
        "print(f\"Usado: {(usado / total)*100:.2f}%, Lançamento: {(lançamento / total)*100:.2f}%\")"
      ]
    },
    {
      "cell_type": "markdown",
      "metadata": {
        "id": "17GxEwBrbcOk"
      },
      "source": [
        "- 99.71% dos tipos dos anuncios são de imóveis usados, enquanto imóveis em lançamento correspondem a 0.29%"
      ]
    },
    {
      "cell_type": "code",
      "execution_count": null,
      "metadata": {
        "colab": {
          "base_uri": "https://localhost:8080/"
        },
        "id": "bihq9gnPu9H1",
        "outputId": "67b6b8d6-383c-4dd8-8ce5-96fa2e96bdb3"
      },
      "outputs": [
        {
          "output_type": "stream",
          "name": "stdout",
          "text": [
            "+-----+----------+---------+---------+--------------------+--------------------+-------+------+------------+------------+-----------+----+---------+--------+--------------+--------------+----------+----------+----+--------------------+----------+----------+------+-------+-------+\n",
            "|andar|area_total|area_util|banheiros|     caracteristicas|                  id|quartos|suites|tipo_anuncio|tipo_unidade|   tipo_uso|vaga|   bairro|     cep|        cidade|        estado|  latitude| longitude|pais|                 rua|      zona|condominio|  iptu|   tipo|  valor|\n",
            "+-----+----------+---------+---------+--------------------+--------------------+-------+------+------------+------------+-----------+----+---------+--------+--------------+--------------+----------+----------+----+--------------------+----------+----------+------+-------+-------+\n",
            "|    3|      [43]|     [43]|      [1]|[Churrasqueira, P...|a2e6d7a5-0ff0-484...|    [2]|   [0]|       Usado| Apartamento|Residencial| [0]|   Cosmos|23066271|Rio de Janeiro|Rio de Janeiro|-22.888194|-43.629602|  BR|Estrada da Paciência|Zona Oeste|     [285]|[null]|[Venda]|[20000]|\n",
            "|    3|      [43]|     [43]|      [1]|[Academia, Churra...|d2e3a3aa-09b5-45a...|    [2]|    []|       Usado| Apartamento|Residencial| [1]|Paciência|23585430|Rio de Janeiro|Rio de Janeiro|-22.919851|-43.634034|  BR|Estrada de Santa ...|Zona Oeste|     [245]|[null]|[Venda]|[15000]|\n",
            "|    2|      [42]|     [42]|      [1]|[Churrasqueira, P...|085bab2c-87ad-452...|    [2]|    []|       Usado| Apartamento|Residencial| [1]|Paciência|23585430|Rio de Janeiro|Rio de Janeiro|-22.928108|-43.635375|  BR|Estrada de Santa ...|Zona Oeste|       [0]|   [0]|[Venda]|[15000]|\n",
            "|    2|      [43]|     [43]|      [1]|[Academia, Churra...|12a13315-d67f-48f...|    [2]|    []|       Usado| Apartamento|Residencial| [1]|Guaratiba|23036060|Rio de Janeiro|Rio de Janeiro|-22.948291|-43.582205|  BR|Estrada Cabuçu de...|Zona Oeste|     [245]|[null]|[Venda]|[15000]|\n",
            "|    1|      [41]|     [41]|      [1]|[Portaria 24h, Co...|18d22cbe-1b86-476...|    [2]|    []|       Usado| Apartamento|Residencial| [1]|Guaratiba|23036060|Rio de Janeiro|Rio de Janeiro|-22.948756|-43.582824|  BR|Estrada Cabuçu de...|Zona Oeste|       [0]|   [0]|[Venda]|[20000]|\n",
            "+-----+----------+---------+---------+--------------------+--------------------+-------+------+------------+------------+-----------+----+---------+--------+--------------+--------------+----------+----------+----+--------------------+----------+----------+------+-------+-------+\n",
            "only showing top 5 rows\n",
            "\n"
          ]
        }
      ],
      "source": [
        "# Filtrando a base procurando pelos tipos residencial, apartamento e usado\n",
        "df_filtro = df_anuncio\\\n",
        "  .where(f.upper(df_anuncio.tipo_uso).like(\"RESIDENCIAL\"))\\\n",
        "  .where(f.upper(df_anuncio.tipo_unidade).like(\"APARTAMENTO\"))\\\n",
        "  .where(f.upper(df_anuncio.tipo_anuncio).like(\"USADO\"))\n",
        "\n",
        "df_filtro.show(n=5)"
      ]
    },
    {
      "cell_type": "markdown",
      "metadata": {
        "id": "oX_vCoijb-Gh"
      },
      "source": [
        "## Trabalhando com o DataFrame filtrado"
      ]
    },
    {
      "cell_type": "markdown",
      "metadata": {
        "id": "PpAMl7t6iEs9"
      },
      "source": [
        "- Optei por utilizar apenas os dados que se encontravam na primeira posição da lista em cada coluna"
      ]
    },
    {
      "cell_type": "code",
      "execution_count": null,
      "metadata": {
        "colab": {
          "base_uri": "https://localhost:8080/"
        },
        "id": "3n4iYcuzvWIG",
        "outputId": "80126fff-c14a-4b97-8a94-986ad9853bb2"
      },
      "outputs": [
        {
          "output_type": "stream",
          "name": "stdout",
          "text": [
            "ANTES DO TRATAMENTO\n",
            "root\n",
            " |-- andar: long (nullable = true)\n",
            " |-- area_total: array (nullable = true)\n",
            " |    |-- element: string (containsNull = true)\n",
            " |-- area_util: array (nullable = true)\n",
            " |    |-- element: string (containsNull = true)\n",
            " |-- banheiros: array (nullable = true)\n",
            " |    |-- element: long (containsNull = true)\n",
            " |-- caracteristicas: array (nullable = true)\n",
            " |    |-- element: string (containsNull = true)\n",
            " |-- id: string (nullable = true)\n",
            " |-- quartos: array (nullable = true)\n",
            " |    |-- element: long (containsNull = true)\n",
            " |-- suites: array (nullable = true)\n",
            " |    |-- element: long (containsNull = true)\n",
            " |-- tipo_anuncio: string (nullable = true)\n",
            " |-- tipo_unidade: string (nullable = true)\n",
            " |-- tipo_uso: string (nullable = true)\n",
            " |-- vaga: array (nullable = true)\n",
            " |    |-- element: long (containsNull = true)\n",
            " |-- bairro: string (nullable = true)\n",
            " |-- cep: string (nullable = true)\n",
            " |-- cidade: string (nullable = true)\n",
            " |-- estado: string (nullable = true)\n",
            " |-- latitude: double (nullable = true)\n",
            " |-- longitude: double (nullable = true)\n",
            " |-- pais: string (nullable = true)\n",
            " |-- rua: string (nullable = true)\n",
            " |-- zona: string (nullable = true)\n",
            " |-- condominio: array (nullable = true)\n",
            " |    |-- element: string (containsNull = true)\n",
            " |-- iptu: array (nullable = true)\n",
            " |    |-- element: string (containsNull = true)\n",
            " |-- tipo: array (nullable = true)\n",
            " |    |-- element: string (containsNull = true)\n",
            " |-- valor: array (nullable = true)\n",
            " |    |-- element: string (containsNull = true)\n",
            "\n",
            "DEPOIS DO TRATAMENTO\n",
            "root\n",
            " |-- andar: long (nullable = true)\n",
            " |-- area_total: integer (nullable = true)\n",
            " |-- area_util: integer (nullable = true)\n",
            " |-- banheiros: integer (nullable = true)\n",
            " |-- caracteristicas: array (nullable = true)\n",
            " |    |-- element: string (containsNull = true)\n",
            " |-- id: string (nullable = true)\n",
            " |-- quartos: integer (nullable = true)\n",
            " |-- suites: integer (nullable = true)\n",
            " |-- tipo_anuncio: string (nullable = true)\n",
            " |-- tipo_unidade: string (nullable = true)\n",
            " |-- tipo_uso: string (nullable = true)\n",
            " |-- vaga: integer (nullable = true)\n",
            " |-- bairro: string (nullable = true)\n",
            " |-- cep: string (nullable = true)\n",
            " |-- cidade: string (nullable = true)\n",
            " |-- estado: string (nullable = true)\n",
            " |-- latitude: double (nullable = true)\n",
            " |-- longitude: double (nullable = true)\n",
            " |-- pais: string (nullable = true)\n",
            " |-- rua: string (nullable = true)\n",
            " |-- zona: string (nullable = true)\n",
            " |-- condominio: array (nullable = true)\n",
            " |    |-- element: string (containsNull = true)\n",
            " |-- iptu: array (nullable = true)\n",
            " |    |-- element: string (containsNull = true)\n",
            " |-- tipo: array (nullable = true)\n",
            " |    |-- element: string (containsNull = true)\n",
            " |-- valor: array (nullable = true)\n",
            " |    |-- element: string (containsNull = true)\n",
            "\n"
          ]
        }
      ],
      "source": [
        "print(\"ANTES DO TRATAMENTO\")\n",
        "df_filtro.printSchema()\n",
        "\n",
        "df_filtro = df_filtro\\\n",
        "  .withColumn(\"quartos\", df_filtro.quartos[0].cast(IntegerType()))\\\n",
        "  .withColumn(\"suites\", df_filtro.suites[0].cast(IntegerType()))\\\n",
        "  .withColumn(\"banheiros\", df_filtro.banheiros[0].cast(IntegerType()))\\\n",
        "  .withColumn(\"vaga\", df_filtro.vaga[0].cast(IntegerType()))\\\n",
        "  .withColumn(\"area_total\", df_filtro.area_total[0].cast(IntegerType()))\\\n",
        "  .withColumn(\"area_util\", df_filtro.area_util[0].cast(IntegerType()))\\\n",
        "\n",
        "print(\"DEPOIS DO TRATAMENTO\")\n",
        "df_filtro.printSchema()"
      ]
    },
    {
      "cell_type": "code",
      "execution_count": null,
      "metadata": {
        "colab": {
          "base_uri": "https://localhost:8080/"
        },
        "id": "glKg0OVYdxPV",
        "outputId": "7db0c96f-65ad-44fb-a6c8-f36c84dc398e"
      },
      "outputs": [
        {
          "output_type": "stream",
          "name": "stdout",
          "text": [
            "+-----+----------+---------+---------+--------------------+--------------------+-------+------+------------+------------+-----------+----+---------+--------+--------------+--------------+----------+----------+----+--------------------+----------+----------+------+-------+-------+\n",
            "|andar|area_total|area_util|banheiros|     caracteristicas|                  id|quartos|suites|tipo_anuncio|tipo_unidade|   tipo_uso|vaga|   bairro|     cep|        cidade|        estado|  latitude| longitude|pais|                 rua|      zona|condominio|  iptu|   tipo|  valor|\n",
            "+-----+----------+---------+---------+--------------------+--------------------+-------+------+------------+------------+-----------+----+---------+--------+--------------+--------------+----------+----------+----+--------------------+----------+----------+------+-------+-------+\n",
            "|    3|        43|       43|        1|[Churrasqueira, P...|a2e6d7a5-0ff0-484...|      2|     0|       Usado| Apartamento|Residencial|   0|   Cosmos|23066271|Rio de Janeiro|Rio de Janeiro|-22.888194|-43.629602|  BR|Estrada da Paciência|Zona Oeste|     [285]|[null]|[Venda]|[20000]|\n",
            "|    3|        43|       43|        1|[Academia, Churra...|d2e3a3aa-09b5-45a...|      2|  null|       Usado| Apartamento|Residencial|   1|Paciência|23585430|Rio de Janeiro|Rio de Janeiro|-22.919851|-43.634034|  BR|Estrada de Santa ...|Zona Oeste|     [245]|[null]|[Venda]|[15000]|\n",
            "|    2|        42|       42|        1|[Churrasqueira, P...|085bab2c-87ad-452...|      2|  null|       Usado| Apartamento|Residencial|   1|Paciência|23585430|Rio de Janeiro|Rio de Janeiro|-22.928108|-43.635375|  BR|Estrada de Santa ...|Zona Oeste|       [0]|   [0]|[Venda]|[15000]|\n",
            "|    2|        43|       43|        1|[Academia, Churra...|12a13315-d67f-48f...|      2|  null|       Usado| Apartamento|Residencial|   1|Guaratiba|23036060|Rio de Janeiro|Rio de Janeiro|-22.948291|-43.582205|  BR|Estrada Cabuçu de...|Zona Oeste|     [245]|[null]|[Venda]|[15000]|\n",
            "|    1|        41|       41|        1|[Portaria 24h, Co...|18d22cbe-1b86-476...|      2|  null|       Usado| Apartamento|Residencial|   1|Guaratiba|23036060|Rio de Janeiro|Rio de Janeiro|-22.948756|-43.582824|  BR|Estrada Cabuçu de...|Zona Oeste|       [0]|   [0]|[Venda]|[20000]|\n",
            "+-----+----------+---------+---------+--------------------+--------------------+-------+------+------------+------------+-----------+----+---------+--------+--------------+--------------+----------+----------+----+--------------------+----------+----------+------+-------+-------+\n",
            "only showing top 5 rows\n",
            "\n"
          ]
        }
      ],
      "source": [
        "df_filtro.show(n=5)"
      ]
    },
    {
      "cell_type": "markdown",
      "metadata": {
        "id": "0sYcNHSji0b1"
      },
      "source": [
        "### Informações sobre endereço (dados filtrados)"
      ]
    },
    {
      "cell_type": "code",
      "execution_count": null,
      "metadata": {
        "colab": {
          "base_uri": "https://localhost:8080/"
        },
        "id": "CLZxprZZiCI1",
        "outputId": "5538766a-2cef-4c64-f5ae-ce220ee6aec4"
      },
      "outputs": [
        {
          "output_type": "stream",
          "name": "stdout",
          "text": [
            "+------------------------+----------+\n",
            "|bairro                  |zona      |\n",
            "+------------------------+----------+\n",
            "|Todos os Santos         |Zona Norte|\n",
            "|Recreio dos Bandeirantes|Zona Oeste|\n",
            "|Guaratiba               |Zona Oeste|\n",
            "|Cosmos                  |Zona Oeste|\n",
            "|Paciência               |Zona Oeste|\n",
            "|Realengo                |Zona Oeste|\n",
            "|Paciência               |Zona Oeste|\n",
            "|Pedra de Guaratiba      |Zona Oeste|\n",
            "|Paciência               |Zona Oeste|\n",
            "|Guaratiba               |Zona Oeste|\n",
            "|Guaratiba               |Zona Oeste|\n",
            "|Cosmos                  |Zona Oeste|\n",
            "|Guaratiba               |Zona Oeste|\n",
            "|Paciência               |Zona Oeste|\n",
            "|Santa Cruz              |Zona Oeste|\n",
            "|Paciência               |Zona Oeste|\n",
            "|Cosmos                  |Zona Oeste|\n",
            "|Guaratiba               |Zona Oeste|\n",
            "|Cosmos                  |Zona Oeste|\n",
            "|Campo Grande            |Zona Oeste|\n",
            "+------------------------+----------+\n",
            "only showing top 20 rows\n",
            "\n"
          ]
        }
      ],
      "source": [
        "df_localizacao = df_filtro\\\n",
        "                .select(\"bairro\", \"zona\")\n",
        "df_localizacao.show(truncate= False)"
      ]
    },
    {
      "cell_type": "markdown",
      "metadata": {
        "id": "em1rvUpRj5S_"
      },
      "source": [
        "### Informações sobre valores (dados filtrados)"
      ]
    },
    {
      "cell_type": "code",
      "execution_count": null,
      "metadata": {
        "colab": {
          "base_uri": "https://localhost:8080/"
        },
        "id": "7_NWNABOjNkZ",
        "outputId": "e491fad2-d789-48f0-a63e-914bdda88da9"
      },
      "outputs": [
        {
          "output_type": "stream",
          "name": "stdout",
          "text": [
            "ANTES DO TRATAMENTO\n",
            "root\n",
            " |-- andar: long (nullable = true)\n",
            " |-- area_total: integer (nullable = true)\n",
            " |-- area_util: integer (nullable = true)\n",
            " |-- banheiros: integer (nullable = true)\n",
            " |-- caracteristicas: array (nullable = true)\n",
            " |    |-- element: string (containsNull = true)\n",
            " |-- id: string (nullable = true)\n",
            " |-- quartos: integer (nullable = true)\n",
            " |-- suites: integer (nullable = true)\n",
            " |-- tipo_anuncio: string (nullable = true)\n",
            " |-- tipo_unidade: string (nullable = true)\n",
            " |-- tipo_uso: string (nullable = true)\n",
            " |-- vaga: integer (nullable = true)\n",
            " |-- bairro: string (nullable = true)\n",
            " |-- cep: string (nullable = true)\n",
            " |-- cidade: string (nullable = true)\n",
            " |-- estado: string (nullable = true)\n",
            " |-- latitude: double (nullable = true)\n",
            " |-- longitude: double (nullable = true)\n",
            " |-- pais: string (nullable = true)\n",
            " |-- rua: string (nullable = true)\n",
            " |-- zona: string (nullable = true)\n",
            " |-- condominio: array (nullable = true)\n",
            " |    |-- element: string (containsNull = true)\n",
            " |-- iptu: array (nullable = true)\n",
            " |    |-- element: string (containsNull = true)\n",
            " |-- tipo: array (nullable = true)\n",
            " |    |-- element: string (containsNull = true)\n",
            " |-- valor: array (nullable = true)\n",
            " |    |-- element: string (containsNull = true)\n",
            "\n",
            "DEPOIS DO TRATAMENTO\n",
            "root\n",
            " |-- andar: long (nullable = true)\n",
            " |-- area_total: integer (nullable = true)\n",
            " |-- area_util: integer (nullable = true)\n",
            " |-- banheiros: integer (nullable = true)\n",
            " |-- caracteristicas: array (nullable = true)\n",
            " |    |-- element: string (containsNull = true)\n",
            " |-- id: string (nullable = true)\n",
            " |-- quartos: integer (nullable = true)\n",
            " |-- suites: integer (nullable = true)\n",
            " |-- tipo_anuncio: string (nullable = true)\n",
            " |-- tipo_unidade: string (nullable = true)\n",
            " |-- tipo_uso: string (nullable = true)\n",
            " |-- vaga: integer (nullable = true)\n",
            " |-- bairro: string (nullable = true)\n",
            " |-- cep: string (nullable = true)\n",
            " |-- cidade: string (nullable = true)\n",
            " |-- estado: string (nullable = true)\n",
            " |-- latitude: double (nullable = true)\n",
            " |-- longitude: double (nullable = true)\n",
            " |-- pais: string (nullable = true)\n",
            " |-- rua: string (nullable = true)\n",
            " |-- zona: string (nullable = true)\n",
            " |-- condominio: integer (nullable = true)\n",
            " |-- iptu: integer (nullable = true)\n",
            " |-- tipo: string (nullable = true)\n",
            " |-- valor: integer (nullable = true)\n",
            "\n"
          ]
        }
      ],
      "source": [
        "print(\"ANTES DO TRATAMENTO\")\n",
        "df_filtro.printSchema()\n",
        "\n",
        "df_filtro = df_filtro\\\n",
        "              .withColumn(\"condominio\", df_filtro.condominio[0].cast(IntegerType()))\\\n",
        "              .withColumn(\"iptu\", df_filtro.iptu[0].cast(IntegerType()))\\\n",
        "              .withColumn(\"tipo\", df_filtro.tipo[0])\\\n",
        "              .withColumn(\"valor\", df_filtro.valor[0].cast(IntegerType()))\n",
        "\n",
        "print(\"DEPOIS DO TRATAMENTO\")\n",
        "df_filtro.printSchema()            "
      ]
    },
    {
      "cell_type": "code",
      "execution_count": null,
      "metadata": {
        "colab": {
          "base_uri": "https://localhost:8080/"
        },
        "id": "ZR-vUZIl0223",
        "outputId": "7edb10b6-07a6-453d-8537-b9fd1ac340a9"
      },
      "outputs": [
        {
          "output_type": "stream",
          "name": "stdout",
          "text": [
            "+-----+----------+---------+---------+--------------------+--------------------+-------+------+------------+------------+-----------+----+-----------+--------+--------------+--------------+----------+----------+----+--------------------+----------+----------+----+-----+-------+\n",
            "|andar|area_total|area_util|banheiros|     caracteristicas|                  id|quartos|suites|tipo_anuncio|tipo_unidade|   tipo_uso|vaga|     bairro|     cep|        cidade|        estado|  latitude| longitude|pais|                 rua|      zona|condominio|iptu| tipo|  valor|\n",
            "+-----+----------+---------+---------+--------------------+--------------------+-------+------+------------+------------+-----------+----+-----------+--------+--------------+--------------+----------+----------+----+--------------------+----------+----------+----+-----+-------+\n",
            "|    0|       410|      410|        3|          [Elevador]|00012605-9cae-45b...|      4|     1|       Usado| Apartamento|Residencial|   1|    Ipanema|22411000|Rio de Janeiro|Rio de Janeiro| -22.98365|-43.196836|  BR|  Rua Barão da Torre|  Zona Sul|      3300|5780|Venda|4600000|\n",
            "|    1|        50|       50|        1|[Elevador, Salão ...|0002dfaf-7735-481...|      1|  null|       Usado| Apartamento|Residencial|   1|Vila Isabel|20550220|Rio de Janeiro|Rio de Janeiro|-22.910847|-43.240793|  BR|     Rua Jorge Rudge|Zona Norte|       500| 600|Venda| 360000|\n",
            "|    0|       148|      148|        4|[Churrasqueira, E...|0003ce76-949d-484...|      4|     2|       Usado| Apartamento|Residencial|   2|Jacarepaguá|22775045|Rio de Janeiro|Rio de Janeiro|-22.971495| -43.38404|  BR|Rua Alfredo Cesch...|Zona Oeste|         0|   0|Venda|1200000|\n",
            "|    0|       104|      104|        1|          [Elevador]|00064277-de4c-4a3...|      2|     0|       Usado| Apartamento|Residencial|   0| Copacabana|22021040|Rio de Janeiro|Rio de Janeiro|-22.965923|-43.182818|  BR|Rua República do ...|  Zona Sul|      1010| 272|Venda| 750000|\n",
            "|    0|        71|       71|        2|          [Elevador]|000be8fe-2044-4ce...|      2|  null|       Usado| Apartamento|Residencial|   1|    Humaitá|22261150|Rio de Janeiro|Rio de Janeiro|-22.960182|-43.201229|  BR|Rua Engenheiro Ma...|  Zona Sul|      1312| 360|Venda|1025000|\n",
            "+-----+----------+---------+---------+--------------------+--------------------+-------+------+------------+------------+-----------+----+-----------+--------+--------------+--------------+----------+----------+----+--------------------+----------+----------+----+-----+-------+\n",
            "only showing top 5 rows\n",
            "\n"
          ]
        }
      ],
      "source": [
        "# Filtrando por \"Venda\" na coluna tipo\n",
        "df_filtro = df_filtro\\\n",
        "  .where(\"tipo = 'Venda'\")\n",
        "\n",
        "df_filtro.show(n=5)"
      ]
    },
    {
      "cell_type": "markdown",
      "metadata": {
        "id": "dtOiySJt4dsP"
      },
      "source": [
        "## Salvando Arquivo\n"
      ]
    },
    {
      "cell_type": "code",
      "execution_count": null,
      "metadata": {
        "id": "hgCytIbi3bHn"
      },
      "outputs": [],
      "source": [
        "df_filtro.write.parquet(\n",
        "    path=\"/content/drive/MyDrive/desafio_datascience/semana-1/parquet/base_tratada\",\n",
        "    mode= \"overwrite\"\n",
        ")"
      ]
    }
  ],
  "metadata": {
    "colab": {
      "provenance": []
    },
    "kernelspec": {
      "display_name": "Python 3",
      "name": "python3"
    },
    "language_info": {
      "name": "python"
    }
  },
  "nbformat": 4,
  "nbformat_minor": 0
}