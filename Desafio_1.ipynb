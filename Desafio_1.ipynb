{
  "nbformat": 4,
  "nbformat_minor": 0,
  "metadata": {
    "colab": {
      "provenance": [],
      "authorship_tag": "ABX9TyOzBD7qZEXQerqBzHB9zLb0",
      "include_colab_link": true
    },
    "kernelspec": {
      "name": "python3",
      "display_name": "Python 3"
    },
    "language_info": {
      "name": "python"
    }
  },
  "cells": [
    {
      "cell_type": "markdown",
      "metadata": {
        "id": "view-in-github",
        "colab_type": "text"
      },
      "source": [
        "<a href=\"https://colab.research.google.com/github/BrianSantos66/challenge-datascience-v2/blob/main/Desafio_1.ipynb\" target=\"_parent\"><img src=\"https://colab.research.google.com/assets/colab-badge.svg\" alt=\"Open In Colab\"/></a>"
      ]
    },
    {
      "cell_type": "markdown",
      "source": [
        "# Instalação das dependências"
      ],
      "metadata": {
        "id": "_Sbn1HhC_ijg"
      }
    },
    {
      "cell_type": "code",
      "execution_count": 1,
      "metadata": {
        "id": "t-2JMJhJ_UNx"
      },
      "outputs": [],
      "source": [
        "!apt-get update -qq\n",
        "!apt-get install openjdk-8-jdk-headless -qq > /dev/null\n",
        "!wget -q https://archive.apache.org/dist/spark/spark-3.1.2/spark-3.1.2-bin-hadoop2.7.tgz\n",
        "!tar xf spark-3.1.2-bin-hadoop2.7.tgz\n",
        "!pip install -q findspark"
      ]
    },
    {
      "cell_type": "code",
      "source": [
        "import os\n",
        "import findspark\n",
        "import zipfile\n",
        "from google.colab import drive"
      ],
      "metadata": {
        "id": "cPalPqgbOpfv"
      },
      "execution_count": 2,
      "outputs": []
    },
    {
      "cell_type": "code",
      "source": [
        "os.environ[\"JAVA_HOME\"] = \"/usr/lib/jvm/java-8-openjdk-amd64\"\n",
        "os.environ[\"SPARK_HOME\"] = \"/content/spark-3.1.2-bin-hadoop2.7\""
      ],
      "metadata": {
        "id": "TqKEsFAXj5Lu"
      },
      "execution_count": 3,
      "outputs": []
    },
    {
      "cell_type": "code",
      "source": [
        "findspark.init()"
      ],
      "metadata": {
        "id": "7_-ysyAC_hKw"
      },
      "execution_count": 4,
      "outputs": []
    },
    {
      "cell_type": "markdown",
      "source": [
        "## Criação da seção e montagem do drive"
      ],
      "metadata": {
        "id": "JtpVOSwgAYdR"
      }
    },
    {
      "cell_type": "code",
      "source": [
        "from pyspark.sql import SparkSession\n",
        "from pyspark.sql.types import DoubleType, StringType, IntegerType, LongType\n",
        "from pyspark.sql import functions as f"
      ],
      "metadata": {
        "id": "WQSqRT_LOwbQ"
      },
      "execution_count": 91,
      "outputs": []
    },
    {
      "cell_type": "code",
      "source": [
        "spark = SparkSession.builder\\\n",
        "     .master('local[*]')\\\n",
        "    .appName(\"Iniciando com Spark\")\\\n",
        "    .config(\"spark.ui.port\", '4050')\\\n",
        "    .getOrCreate()"
      ],
      "metadata": {
        "id": "jxIbo6Dv_hyL"
      },
      "execution_count": 6,
      "outputs": []
    },
    {
      "cell_type": "code",
      "source": [
        "!wget -q https://bin.equinox.io/c/4VmDzA7iaHb/ngrok-stable-linux-amd64.zip\n",
        "!unzip ngrok-stable-linux-amd64.zip"
      ],
      "metadata": {
        "colab": {
          "base_uri": "https://localhost:8080/"
        },
        "id": "WlNu6eRamsqS",
        "outputId": "cd45268c-a3c8-4312-ac05-2466e0206031"
      },
      "execution_count": 7,
      "outputs": [
        {
          "output_type": "stream",
          "name": "stdout",
          "text": [
            "Archive:  ngrok-stable-linux-amd64.zip\n",
            "  inflating: ngrok                   \n"
          ]
        }
      ]
    },
    {
      "cell_type": "code",
      "source": [
        "get_ipython().system_raw('./ngrok config add-authtoken 2IGFrcHdmscOt9I9zJ1Zsxvmddj_4ECf4Sh3SML7wuPi5A5v1')\n",
        "get_ipython().system_raw('./ngrok http 4050 &')"
      ],
      "metadata": {
        "id": "VM8sUFHnmuAd"
      },
      "execution_count": 8,
      "outputs": []
    },
    {
      "cell_type": "code",
      "source": [
        "!curl -s http://localhost:4040/api/tunnels"
      ],
      "metadata": {
        "colab": {
          "base_uri": "https://localhost:8080/"
        },
        "id": "nB8zybkumvE9",
        "outputId": "84ca32e1-a95f-4af6-87da-8b2e5ec4aa60"
      },
      "execution_count": 9,
      "outputs": [
        {
          "output_type": "stream",
          "name": "stdout",
          "text": [
            "{\"tunnels\":[{\"name\":\"command_line\",\"uri\":\"/api/tunnels/command_line\",\"public_url\":\"https://d29c-35-199-24-62.ngrok-free.app\",\"proto\":\"https\",\"config\":{\"addr\":\"http://localhost:4050\",\"inspect\":true},\"metrics\":{\"conns\":{\"count\":0,\"gauge\":0,\"rate1\":0,\"rate5\":0,\"rate15\":0,\"p50\":0,\"p90\":0,\"p95\":0,\"p99\":0},\"http\":{\"count\":0,\"rate1\":0,\"rate5\":0,\"rate15\":0,\"p50\":0,\"p90\":0,\"p95\":0,\"p99\":0}}},{\"name\":\"command_line (http)\",\"uri\":\"/api/tunnels/command_line%20%28http%29\",\"public_url\":\"http://d29c-35-199-24-62.ngrok-free.app\",\"proto\":\"http\",\"config\":{\"addr\":\"http://localhost:4050\",\"inspect\":true},\"metrics\":{\"conns\":{\"count\":0,\"gauge\":0,\"rate1\":0,\"rate5\":0,\"rate15\":0,\"p50\":0,\"p90\":0,\"p95\":0,\"p99\":0},\"http\":{\"count\":0,\"rate1\":0,\"rate5\":0,\"rate15\":0,\"p50\":0,\"p90\":0,\"p95\":0,\"p99\":0}}}],\"uri\":\"/api/tunnels\"}\n"
          ]
        }
      ]
    },
    {
      "cell_type": "code",
      "source": [
        "drive.mount('/content/drive')"
      ],
      "metadata": {
        "id": "0IDKrn7PAbJU",
        "colab": {
          "base_uri": "https://localhost:8080/"
        },
        "outputId": "8e8deebb-2a05-4b0d-b543-d693715af78d"
      },
      "execution_count": 10,
      "outputs": [
        {
          "output_type": "stream",
          "name": "stdout",
          "text": [
            "Mounted at /content/drive\n"
          ]
        }
      ]
    },
    {
      "cell_type": "markdown",
      "source": [
        "## Carregando os dados\n"
      ],
      "metadata": {
        "id": "9nE9hDQ6BDX2"
      }
    },
    {
      "cell_type": "code",
      "source": [
        "zipfile.ZipFile(\"/content/drive/MyDrive/desafio_datascience/semana-1.zip\", \"r\").extractall(\"/content/drive/MyDrive/desafio_datascience/semana-1/\")"
      ],
      "metadata": {
        "id": "JoDqZudYBMYm"
      },
      "execution_count": 11,
      "outputs": []
    },
    {
      "cell_type": "code",
      "source": [
        "path = \"/content/drive/MyDrive/desafio_datascience/semana-1/dataset_bruto.json\"\n",
        "dados = spark.read.json(path)"
      ],
      "metadata": {
        "id": "CFZzvGKsB-14"
      },
      "execution_count": 77,
      "outputs": []
    },
    {
      "cell_type": "markdown",
      "source": [
        "# Exploração dos dados"
      ],
      "metadata": {
        "id": "uIjbe6cCDASi"
      }
    },
    {
      "cell_type": "code",
      "source": [
        "print(f\"Quantidade de linhas do datafame: {dados.count()}\")"
      ],
      "metadata": {
        "id": "M0CJR46bFFzZ",
        "colab": {
          "base_uri": "https://localhost:8080/"
        },
        "outputId": "081e5b80-d076-456a-86e3-da275fa520d8"
      },
      "execution_count": 13,
      "outputs": [
        {
          "output_type": "stream",
          "name": "stdout",
          "text": [
            "Quantidade de linhas do datafame: 89083\n"
          ]
        }
      ]
    },
    {
      "cell_type": "code",
      "source": [
        "dados.limit(5).show(truncate= False)"
      ],
      "metadata": {
        "id": "DjVlMJi8DDYt",
        "colab": {
          "base_uri": "https://localhost:8080/"
        },
        "outputId": "27e447e6-d708-4097-bfde-714d72394ba4"
      },
      "execution_count": 14,
      "outputs": [
        {
          "output_type": "stream",
          "name": "stdout",
          "text": [
            "+----------------------------------------------------------------------------------------------------------------------------------------------------------------------------------------------------------------------------------------------------------------------------------------------------+--------------------------------------------------------------------------------------------------------------------------------------------------------------------------------------------------------------------------------------------------------------------------------------------------------------------------------------------------------------------------------------------------------------------------------------------------------------------------------------------------------------------------------------------------------------------------------------------------------+------------------------------------------------+\n",
            "|anuncio                                                                                                                                                                                                                                                                                             |imagens                                                                                                                                                                                                                                                                                                                                                                                                                                                                                                                                                                                                 |usuario                                         |\n",
            "+----------------------------------------------------------------------------------------------------------------------------------------------------------------------------------------------------------------------------------------------------------------------------------------------------+--------------------------------------------------------------------------------------------------------------------------------------------------------------------------------------------------------------------------------------------------------------------------------------------------------------------------------------------------------------------------------------------------------------------------------------------------------------------------------------------------------------------------------------------------------------------------------------------------------+------------------------------------------------+\n",
            "|{0, [], [16], [0], [], {Centro, 20061003, Rio de Janeiro, Rio de Janeiro, -22.906082, -43.18671, BR, Rua Buenos Aires, Zona Central}, 47d553e0-79f2-4a46-9390-5a3c962740c2, [0], [0], Usado, Outros, Comercial, [1], [{260, 107, Venda, 10000}]}                                                    |[{39d6282a-71f3-47bc-94aa-909351ecd881, https://api.images.insightplaces.com.br/{type}/{width}/{height}/1b08098d-f2dc-439c-b604-a4e50d12774b.jpg}]                                                                                                                                                                                                                                                                                                                                                                                                                                                      |{9d44563d-3405-4e84-9381-35b7cf40a9a4, Frank}   |\n",
            "|{0, [], [14], [0], [], {Centro, 20051040, Rio de Janeiro, Rio de Janeiro, -22.902536, -43.18434, BR, Avenida Passos, Zona Central}, b6ffbae1-17f6-4870-9950-e998ac1c8d6a, [0], [], Usado, Outros, Comercial, [0], [{260, 107, Venda, 10000}]}                                                       |[{23d2b3ab-45b0-47f2-a27f-ffbe066c2c38, https://api.images.insightplaces.com.br/{type}/{width}/{height}/7a65b929-fe46-4a60-ae31-81faf2edb3c6.jpg}, {1b5f71f8-1aec-4b82-8d4c-67540d204a59, https://api.images.insightplaces.com.br/{type}/{width}/{height}/82e92d72-002a-4d3b-8063-16d4d65474b3.jpg}, {9bb11688-7dc9-48b9-bc1d-6a7a2dbcd553, https://api.images.insightplaces.com.br/{type}/{width}/{height}/23be0c2c-4c8f-4718-8126-6f160bb3efcc.jpg}, {1aaf6095-70bc-4f1f-87a4-fe3534a1bd2a, https://api.images.insightplaces.com.br/{type}/{width}/{height}/0ae382f4-b1ac-4ad9-b6cf-d9b4d7d01908.jpg}]|{36245be7-70fe-40cd-84d4-70a57dc8f976, Caroline}|\n",
            "|{0, [1026], [1026], [0], [], {Maria da Graça, 20785360, Rio de Janeiro, Rio de Janeiro, -22.885516, -43.269083, BR, Rua Luís de Brito, Zona Norte}, 1fb030a5-9e3e-4a1d-93cd-cd2d8a215e11, [0], [], Usado, Outros, Comercial, [0], [{null, 1613, Venda, 10000}]}                                     |[{1da65baa-368b-490f-bef7-1834b9a428c1, https://api.images.insightplaces.com.br/{type}/{width}/{height}/b06fe423-6f18-43bb-b0e3-a569158885d2.jpg}]                                                                                                                                                                                                                                                                                                                                                                                                                                                      |{9dc415d8-1397-4d8d-8425-b8310fad309d, Oliver}  |\n",
            "|{0, [120], [120], [0], [Portão eletrônico, Condomínio fechado], {Campo Grande, 23095071, Rio de Janeiro, Rio de Janeiro, -22.885028, -43.561668, BR, Estrada Guandu do Sape, Zona Oeste}, ac6cb348-69d6-45af-9589-dc34099370d8, [0], [], Usado, Outros, Residencial, [], [{80, null, Venda, 10000}]}|[{79b542c6-49b4-4f06-80b5-ef4fcdf98f76, https://api.images.insightplaces.com.br/{type}/{width}/{height}/b9688b1a-e6e8-4027-9368-d8298bc5ac40.jpg}]                                                                                                                                                                                                                                                                                                                                                                                                                                                      |{9911a2df-f299-4a73-a384-281417abaf69, Matthew} |\n",
            "|{0, [3], [3], [0], [], {São Cristóvão, 20931670, Rio de Janeiro, Rio de Janeiro, -22.885912, -43.219296, BR, Rua Monsenhor Manuel Gomes, Zona Norte}, e032b908-ef42-4d4a-8125-eba4792bacbe, [0], [], Usado, Outros, Residencial, [], [{0, 0, Venda, 5000}]}                                         |[{e2bc497b-6510-4731-8942-97b3d3cdab5e, https://api.images.insightplaces.com.br/{type}/{width}/{height}/bd7e2c54-8d10-4148-806d-0d656ff80fc2.jpg}]                                                                                                                                                                                                                                                                                                                                                                                                                                                      |{240a7aab-12e5-4069-9a2c-9dca4c4f9c68, Jude}    |\n",
            "+----------------------------------------------------------------------------------------------------------------------------------------------------------------------------------------------------------------------------------------------------------------------------------------------------+--------------------------------------------------------------------------------------------------------------------------------------------------------------------------------------------------------------------------------------------------------------------------------------------------------------------------------------------------------------------------------------------------------------------------------------------------------------------------------------------------------------------------------------------------------------------------------------------------------+------------------------------------------------+\n",
            "\n"
          ]
        }
      ]
    },
    {
      "cell_type": "code",
      "source": [
        "dados.printSchema()"
      ],
      "metadata": {
        "id": "wt_hqaWxDFt6",
        "colab": {
          "base_uri": "https://localhost:8080/"
        },
        "outputId": "560114d0-0867-428a-e71b-833dc3222d3c"
      },
      "execution_count": 15,
      "outputs": [
        {
          "output_type": "stream",
          "name": "stdout",
          "text": [
            "root\n",
            " |-- anuncio: struct (nullable = true)\n",
            " |    |-- andar: long (nullable = true)\n",
            " |    |-- area_total: array (nullable = true)\n",
            " |    |    |-- element: string (containsNull = true)\n",
            " |    |-- area_util: array (nullable = true)\n",
            " |    |    |-- element: string (containsNull = true)\n",
            " |    |-- banheiros: array (nullable = true)\n",
            " |    |    |-- element: long (containsNull = true)\n",
            " |    |-- caracteristicas: array (nullable = true)\n",
            " |    |    |-- element: string (containsNull = true)\n",
            " |    |-- endereco: struct (nullable = true)\n",
            " |    |    |-- bairro: string (nullable = true)\n",
            " |    |    |-- cep: string (nullable = true)\n",
            " |    |    |-- cidade: string (nullable = true)\n",
            " |    |    |-- estado: string (nullable = true)\n",
            " |    |    |-- latitude: double (nullable = true)\n",
            " |    |    |-- longitude: double (nullable = true)\n",
            " |    |    |-- pais: string (nullable = true)\n",
            " |    |    |-- rua: string (nullable = true)\n",
            " |    |    |-- zona: string (nullable = true)\n",
            " |    |-- id: string (nullable = true)\n",
            " |    |-- quartos: array (nullable = true)\n",
            " |    |    |-- element: long (containsNull = true)\n",
            " |    |-- suites: array (nullable = true)\n",
            " |    |    |-- element: long (containsNull = true)\n",
            " |    |-- tipo_anuncio: string (nullable = true)\n",
            " |    |-- tipo_unidade: string (nullable = true)\n",
            " |    |-- tipo_uso: string (nullable = true)\n",
            " |    |-- vaga: array (nullable = true)\n",
            " |    |    |-- element: long (containsNull = true)\n",
            " |    |-- valores: array (nullable = true)\n",
            " |    |    |-- element: struct (containsNull = true)\n",
            " |    |    |    |-- condominio: string (nullable = true)\n",
            " |    |    |    |-- iptu: string (nullable = true)\n",
            " |    |    |    |-- tipo: string (nullable = true)\n",
            " |    |    |    |-- valor: string (nullable = true)\n",
            " |-- imagens: array (nullable = true)\n",
            " |    |-- element: struct (containsNull = true)\n",
            " |    |    |-- id: string (nullable = true)\n",
            " |    |    |-- url: string (nullable = true)\n",
            " |-- usuario: struct (nullable = true)\n",
            " |    |-- id: string (nullable = true)\n",
            " |    |-- nome: string (nullable = true)\n",
            "\n"
          ]
        }
      ]
    },
    {
      "cell_type": "markdown",
      "source": [
        "Talvez seja necessário converter:\n",
        "\n",
        "- anuncio.id para inteiro (string atualmente)\n",
        "- anuncio.valores.valor para inteiro (string atualmente)\n",
        "- anuncio.valores.iptu para inteiro (string atualmente)\n",
        "- imagens.id para inteiro (string atualmente)\n",
        "- usuario.id para inteiro (string atualmente)"
      ],
      "metadata": {
        "id": "Lom-WXFBIkGR"
      }
    },
    {
      "cell_type": "markdown",
      "source": [
        "## Criando um dataframe a parte com as informações de anuncio"
      ],
      "metadata": {
        "id": "UeRPGnwPuwB7"
      }
    },
    {
      "cell_type": "code",
      "source": [
        "df_anuncio = dados\\\n",
        "              .select(\"anuncio\")\n",
        "df_anuncio.printSchema()"
      ],
      "metadata": {
        "id": "_JYIDA43Plth",
        "colab": {
          "base_uri": "https://localhost:8080/"
        },
        "outputId": "08b88d48-a39a-4c13-cb55-7d27e34a1a62"
      },
      "execution_count": 78,
      "outputs": [
        {
          "output_type": "stream",
          "name": "stdout",
          "text": [
            "root\n",
            " |-- anuncio: struct (nullable = true)\n",
            " |    |-- andar: long (nullable = true)\n",
            " |    |-- area_total: array (nullable = true)\n",
            " |    |    |-- element: string (containsNull = true)\n",
            " |    |-- area_util: array (nullable = true)\n",
            " |    |    |-- element: string (containsNull = true)\n",
            " |    |-- banheiros: array (nullable = true)\n",
            " |    |    |-- element: long (containsNull = true)\n",
            " |    |-- caracteristicas: array (nullable = true)\n",
            " |    |    |-- element: string (containsNull = true)\n",
            " |    |-- endereco: struct (nullable = true)\n",
            " |    |    |-- bairro: string (nullable = true)\n",
            " |    |    |-- cep: string (nullable = true)\n",
            " |    |    |-- cidade: string (nullable = true)\n",
            " |    |    |-- estado: string (nullable = true)\n",
            " |    |    |-- latitude: double (nullable = true)\n",
            " |    |    |-- longitude: double (nullable = true)\n",
            " |    |    |-- pais: string (nullable = true)\n",
            " |    |    |-- rua: string (nullable = true)\n",
            " |    |    |-- zona: string (nullable = true)\n",
            " |    |-- id: string (nullable = true)\n",
            " |    |-- quartos: array (nullable = true)\n",
            " |    |    |-- element: long (containsNull = true)\n",
            " |    |-- suites: array (nullable = true)\n",
            " |    |    |-- element: long (containsNull = true)\n",
            " |    |-- tipo_anuncio: string (nullable = true)\n",
            " |    |-- tipo_unidade: string (nullable = true)\n",
            " |    |-- tipo_uso: string (nullable = true)\n",
            " |    |-- vaga: array (nullable = true)\n",
            " |    |    |-- element: long (containsNull = true)\n",
            " |    |-- valores: array (nullable = true)\n",
            " |    |    |-- element: struct (containsNull = true)\n",
            " |    |    |    |-- condominio: string (nullable = true)\n",
            " |    |    |    |-- iptu: string (nullable = true)\n",
            " |    |    |    |-- tipo: string (nullable = true)\n",
            " |    |    |    |-- valor: string (nullable = true)\n",
            "\n"
          ]
        }
      ]
    },
    {
      "cell_type": "code",
      "source": [
        "df_anuncio = df_anuncio\\\n",
        "                  .withColumn(\"andar\", df_anuncio.anuncio.andar)\\\n",
        "                  .withColumn(\"area_total\", df_anuncio.anuncio.area_total)\\\n",
        "                  .withColumn(\"area_util\", df_anuncio.anuncio.area_util)\\\n",
        "                  .withColumn(\"banheiros\", df_anuncio.anuncio.area_util)\\\n",
        "                  .withColumn(\"caracteristicas\", df_anuncio.anuncio.caracteristicas)\\\n",
        "                  .withColumn(\"bairro\", df_anuncio.anuncio.endereco.bairro)\\\n",
        "                  .withColumn(\"cep\", df_anuncio.anuncio.endereco.cep)\\\n",
        "                  .withColumn(\"cidade\", df_anuncio.anuncio.endereco.cidade)\\\n",
        "                  .withColumn(\"estado\", df_anuncio.anuncio.endereco.estado)\\\n",
        "                  .withColumn(\"latitude\", df_anuncio.anuncio.endereco.latitude)\\\n",
        "                  .withColumn(\"longitude\", df_anuncio.anuncio.endereco.longitude)\\\n",
        "                  .withColumn(\"pais\", df_anuncio.anuncio.endereco.pais)\\\n",
        "                  .withColumn(\"rua\", df_anuncio.anuncio.endereco.rua)\\\n",
        "                  .withColumn(\"zona\", df_anuncio.anuncio.endereco.zona)\\\n",
        "                  .withColumn(\"id\", df_anuncio.anuncio.id.cast(\"long\"))\\\n",
        "                  .withColumn(\"quartos\", df_anuncio.anuncio.quartos)\\\n",
        "                  .withColumn(\"suites\", df_anuncio.anuncio.suites)\\\n",
        "                  .withColumn(\"tipo_anuncio\", df_anuncio.anuncio.tipo_anuncio)\\\n",
        "                  .withColumn(\"tipo_unidade\", df_anuncio.anuncio.tipo_unidade)\\\n",
        "                  .withColumn(\"tipo_uso\", df_anuncio.anuncio.tipo_uso)\\\n",
        "                  .withColumn(\"vaga\", df_anuncio.anuncio.vaga)\\\n",
        "                  .withColumn(\"valor_condominio\", df_anuncio.anuncio.valores.condominio)\\\n",
        "                  .withColumn(\"valor_iptu\", df_anuncio.anuncio.valores.iptu)\\\n",
        "                  .withColumn(\"valor_tipo\", df_anuncio.anuncio.valores.tipo)\\\n",
        "                  .withColumn(\"valor\", df_anuncio.anuncio.valores.valor)\n",
        "\n",
        "df_anuncio = df_anuncio.drop(df_anuncio.anuncio)\n",
        "df_anuncio.show()\n"
      ],
      "metadata": {
        "id": "iBIvf5KrSC1y",
        "colab": {
          "base_uri": "https://localhost:8080/"
        },
        "outputId": "2debfc55-30fe-4c12-b808-858d6045c073"
      },
      "execution_count": 79,
      "outputs": [
        {
          "output_type": "stream",
          "name": "stdout",
          "text": [
            "+-----+----------+---------+---------+--------------------+--------------+--------+--------------+--------------+----------+----------+----+--------------------+------------+----+-------+------+------------+------------+-----------+----+----------------+----------+----------+-------+\n",
            "|andar|area_total|area_util|banheiros|     caracteristicas|        bairro|     cep|        cidade|        estado|  latitude| longitude|pais|                 rua|        zona|  id|quartos|suites|tipo_anuncio|tipo_unidade|   tipo_uso|vaga|valor_condominio|valor_iptu|valor_tipo|  valor|\n",
            "+-----+----------+---------+---------+--------------------+--------------+--------+--------------+--------------+----------+----------+----+--------------------+------------+----+-------+------+------------+------------+-----------+----+----------------+----------+----------+-------+\n",
            "|    0|        []|     [16]|     [16]|                  []|        Centro|20061003|Rio de Janeiro|Rio de Janeiro|-22.906082| -43.18671|  BR|    Rua Buenos Aires|Zona Central|null|    [0]|   [0]|       Usado|      Outros|  Comercial| [1]|           [260]|     [107]|   [Venda]|[10000]|\n",
            "|    0|        []|     [14]|     [14]|                  []|        Centro|20051040|Rio de Janeiro|Rio de Janeiro|-22.902536| -43.18434|  BR|      Avenida Passos|Zona Central|null|    [0]|    []|       Usado|      Outros|  Comercial| [0]|           [260]|     [107]|   [Venda]|[10000]|\n",
            "|    0|    [1026]|   [1026]|   [1026]|                  []|Maria da Graça|20785360|Rio de Janeiro|Rio de Janeiro|-22.885516|-43.269083|  BR|   Rua Luís de Brito|  Zona Norte|null|    [0]|    []|       Usado|      Outros|  Comercial| [0]|          [null]|    [1613]|   [Venda]|[10000]|\n",
            "|    0|     [120]|    [120]|    [120]|[Portão eletrônic...|  Campo Grande|23095071|Rio de Janeiro|Rio de Janeiro|-22.885028|-43.561668|  BR|Estrada Guandu do...|  Zona Oeste|null|    [0]|    []|       Usado|      Outros|Residencial|  []|            [80]|    [null]|   [Venda]|[10000]|\n",
            "|    0|       [3]|      [3]|      [3]|                  []| São Cristóvão|20931670|Rio de Janeiro|Rio de Janeiro|-22.885912|-43.219296|  BR|Rua Monsenhor Man...|  Zona Norte|null|    [0]|    []|       Usado|      Outros|Residencial|  []|             [0]|       [0]|   [Venda]| [5000]|\n",
            "|    0|      [20]|     [15]|     [15]|                  []|        Centro|20231047|Rio de Janeiro|Rio de Janeiro|-22.913152|-43.184043|  BR|   Rua dos Inválidos|Zona Central|null|    [0]|    []|       Usado|      Outros|  Comercial| [1]|           [223]|      [87]|   [Venda]|[18500]|\n",
            "|    3|      [43]|     [43]|     [43]|[Academia, Churra...|     Paciência|23585430|Rio de Janeiro|Rio de Janeiro|-22.919851|-43.634034|  BR|Estrada de Santa ...|  Zona Oeste|null|    [2]|    []|       Usado| Apartamento|Residencial| [1]|           [245]|    [null]|   [Venda]|[15000]|\n",
            "|    2|      [42]|     [42]|     [42]|[Churrasqueira, P...|     Paciência|23585430|Rio de Janeiro|Rio de Janeiro|-22.928108|-43.635375|  BR|Estrada de Santa ...|  Zona Oeste|null|    [2]|    []|       Usado| Apartamento|Residencial| [1]|             [0]|       [0]|   [Venda]|[15000]|\n",
            "|    0|        []|     [12]|     [12]|[Portaria 24h, El...|        Centro|20231047|Rio de Janeiro|Rio de Janeiro|-22.913152|-43.184043|  BR|   Rua dos Inválidos|Zona Central|null|    [0]|    []|       Usado|      Outros|  Comercial| [1]|           [250]|    [null]|   [Venda]|[20000]|\n",
            "|    1|      [41]|     [41]|     [41]|[Portaria 24h, Co...|     Guaratiba|23036060|Rio de Janeiro|Rio de Janeiro|-22.948756|-43.582824|  BR|Estrada Cabuçu de...|  Zona Oeste|null|    [2]|    []|       Usado| Apartamento|Residencial| [1]|             [0]|       [0]|   [Venda]|[20000]|\n",
            "|    3|      [43]|     [43]|     [43]|[Churrasqueira, P...|        Cosmos|23066271|Rio de Janeiro|Rio de Janeiro|-22.888194|-43.629602|  BR|Estrada da Paciência|  Zona Oeste|null|    [2]|    []|       Usado| Apartamento|Residencial| [0]|           [285]|    [null]|   [Venda]|[20000]|\n",
            "|    0|      [10]|      [4]|      [4]|[Elevador, Portar...|        Centro|20080021|Rio de Janeiro|Rio de Janeiro|-22.900167|-43.183256|  BR|    Rua dos Andradas|Zona Central|null|    [0]|    []|       Usado|      Outros|  Comercial| [0]|           [200]|      [86]|   [Venda]|[11500]|\n",
            "|    0|      [12]|     [12]|     [12]|      [Portaria 24h]|    Copacabana|22021010|Rio de Janeiro|Rio de Janeiro|-22.965218|-43.179086|  BR|Rua Ministro Vive...|    Zona Sul|null|    [0]|    []|       Usado|      Outros|  Comercial|  []|           [470]|    [null]|   [Venda]|[12000]|\n",
            "|    0|      [17]|     [17]|     [17]|          [Elevador]|        Centro|20070021|Rio de Janeiro|Rio de Janeiro|-22.902503|-43.177944|  BR|    Rua Buenos Aires|Zona Central|null|    [0]|    []|       Usado|      Outros|  Comercial| [1]|           [294]|      [98]|   [Venda]|[18000]|\n",
            "|    1|      [32]|     [32]|     [32]|[Elevador, Condom...|        Centro|20090020|Rio de Janeiro|Rio de Janeiro|-22.898297|-43.178573|  BR|   Rua Cortines Laxe|Zona Central|null|     []|    []|       Usado|      Outros|  Comercial| [1]|           [684]|    [null]|   [Venda]|[15000]|\n",
            "|    0|        []|     [10]|     [10]|[Elevador, Condom...|         Saúde|20080040|Rio de Janeiro|Rio de Janeiro|-22.899571|-43.184864|  BR|Travessa Coronel ...|Zona Central|null|    [0]|    []|       Usado|      Outros|  Comercial|  []|             [0]|     [120]|   [Venda]|[20000]|\n",
            "|    2|      [43]|     [43]|     [43]|[Academia, Churra...|     Guaratiba|23036060|Rio de Janeiro|Rio de Janeiro|-22.948291|-43.582205|  BR|Estrada Cabuçu de...|  Zona Oeste|null|    [2]|    []|       Usado| Apartamento|Residencial| [1]|           [245]|    [null]|   [Venda]|[15000]|\n",
            "|    3|      [43]|     [43]|     [43]|[Churrasqueira, P...|        Cosmos|23066271|Rio de Janeiro|Rio de Janeiro|-22.888194|-43.629602|  BR|Estrada da Paciência|  Zona Oeste|null|    [2]|   [0]|       Usado| Apartamento|Residencial| [0]|           [285]|    [null]|   [Venda]|[20000]|\n",
            "|    3|      [43]|     [43]|     [43]|[Churrasqueira, P...|     Paciência|23585430|Rio de Janeiro|Rio de Janeiro|-22.919851|-43.634034|  BR|Estrada de Santa ...|  Zona Oeste|null|    [2]|    []|       Usado| Apartamento|Residencial| [1]|           [250]|    [null]|   [Venda]|[15000]|\n",
            "|    3|      [43]|     [43]|     [43]|[Churrasqueira, P...|     Guaratiba|23036060|Rio de Janeiro|Rio de Janeiro|-22.948291|-43.582205|  BR|Estrada Cabuçu de...|  Zona Oeste|null|    [2]|   [0]|       Usado| Apartamento|Residencial| [1]|           [245]|    [null]|   [Venda]|[15000]|\n",
            "+-----+----------+---------+---------+--------------------+--------------+--------+--------------+--------------+----------+----------+----+--------------------+------------+----+-------+------+------------+------------+-----------+----+----------------+----------+----------+-------+\n",
            "only showing top 20 rows\n",
            "\n"
          ]
        }
      ]
    },
    {
      "cell_type": "markdown",
      "source": [
        "## Frequência e filtro das coluna tipo_uso, tipo_unidade e tipo_anuncio"
      ],
      "metadata": {
        "id": "tUFJNw2qQEin"
      }
    },
    {
      "cell_type": "code",
      "source": [
        "# Frequência da coluna tipo_uso\n",
        "df_anuncio\\\n",
        "  .select(\"tipo_uso\")\\\n",
        "  .groupBy(\"tipo_uso\")\\\n",
        "  .agg(\n",
        "      f.count(\"tipo_uso\").alias(\"frequencia\")\n",
        "      )\\\n",
        "  .show()\n",
        "\n",
        "# Fazer uma nova coluna com o percentual de cada tipo"
      ],
      "metadata": {
        "colab": {
          "base_uri": "https://localhost:8080/"
        },
        "id": "ESTns2VQQa4p",
        "outputId": "7c1a4427-e9d2-483e-a5e4-af4f4cd49b0e"
      },
      "execution_count": 80,
      "outputs": [
        {
          "output_type": "stream",
          "name": "stdout",
          "text": [
            "+-----------+----------+\n",
            "|   tipo_uso|frequencia|\n",
            "+-----------+----------+\n",
            "|  Comercial|      4542|\n",
            "|Residencial|     84541|\n",
            "+-----------+----------+\n",
            "\n"
          ]
        }
      ]
    },
    {
      "cell_type": "code",
      "source": [
        "comercial = 4542\n",
        "residencial = 84541\n",
        "total = comercial + residencial\n",
        "\n",
        "print(f\"Comercial: {(comercial / total)*100:.2f}%, Residencial: {(residencial / total)*100:.2f}%\")"
      ],
      "metadata": {
        "colab": {
          "base_uri": "https://localhost:8080/"
        },
        "id": "SBx3Zj9kZGxb",
        "outputId": "7233f53a-2bef-4adb-dbb5-20871ba25c87"
      },
      "execution_count": 81,
      "outputs": [
        {
          "output_type": "stream",
          "name": "stdout",
          "text": [
            "Comercial: 5.10%, Residencial: 94.90%\n"
          ]
        }
      ]
    },
    {
      "cell_type": "markdown",
      "source": [
        "- É possivel observar que a base possui mais imóveis do tipo Residencial (94.90%), enquanto o tipo Comercial equivale a 5.10% dos dados"
      ],
      "metadata": {
        "id": "0wmZinGzSayS"
      }
    },
    {
      "cell_type": "code",
      "source": [
        "# Frequência da coluna tipo_unidade\n",
        "df_anuncio\\\n",
        "  .select(\"tipo_unidade\")\\\n",
        "  .groupBy(\"tipo_unidade\")\\\n",
        "  .agg(\n",
        "      f.count(\"tipo_unidade\").alias(\"Frequência\")\n",
        "      )\\\n",
        "  .show()"
      ],
      "metadata": {
        "colab": {
          "base_uri": "https://localhost:8080/"
        },
        "id": "HwmLBqwnSEDw",
        "outputId": "4e14a1c2-7e0e-449a-dd91-b032827ab741"
      },
      "execution_count": 82,
      "outputs": [
        {
          "output_type": "stream",
          "name": "stdout",
          "text": [
            "+------------+----------+\n",
            "|tipo_unidade|Frequência|\n",
            "+------------+----------+\n",
            "|      Outros|     11963|\n",
            "| Apartamento|     66801|\n",
            "|        Casa|     10319|\n",
            "+------------+----------+\n",
            "\n"
          ]
        }
      ]
    },
    {
      "cell_type": "code",
      "source": [
        "outros = 11963\n",
        "apartamento = 66801\n",
        "casa = 10319\n",
        "total = outros + apartamento + casa\n",
        "\n",
        "print(f\"Outros: {(outros / total)*100:.2f}%, Apartamento: {(apartamento / total)*100:.2f}%, Casa: {(casa / total)*100:.2f}%\")"
      ],
      "metadata": {
        "colab": {
          "base_uri": "https://localhost:8080/"
        },
        "id": "aKJXqTDVaVzY",
        "outputId": "dbbdc5a6-9ff5-45a0-db30-08337a8f7c3b"
      },
      "execution_count": 83,
      "outputs": [
        {
          "output_type": "stream",
          "name": "stdout",
          "text": [
            "Outros: 13.43%, Apartamento: 74.99%, Casa: 11.58%\n"
          ]
        }
      ]
    },
    {
      "cell_type": "markdown",
      "source": [
        "- O tipo de unidade que mais aparece é Apartamento (74.99%), a base apresenta mais dados com o tipo \"Outros\" (13.43%) do que com o tipo \"Casa\" (11.58%)"
      ],
      "metadata": {
        "id": "9kxvYa2Kato7"
      }
    },
    {
      "cell_type": "code",
      "source": [
        "# Frequência da coluna tipo_anuncio\n",
        "df_anuncio\\\n",
        "  .select(\"tipo_anuncio\")\\\n",
        "  .groupBy(\"tipo_anuncio\")\\\n",
        "  .agg(\n",
        "      f.count(\"tipo_anuncio\").alias(\"Frequência\")\n",
        "      )\\\n",
        "  .show()"
      ],
      "metadata": {
        "colab": {
          "base_uri": "https://localhost:8080/"
        },
        "id": "b5Ef8XkrSHrL",
        "outputId": "c0e1dd4c-24ea-48d6-eea7-783399e2fff8"
      },
      "execution_count": 84,
      "outputs": [
        {
          "output_type": "stream",
          "name": "stdout",
          "text": [
            "+------------+----------+\n",
            "|tipo_anuncio|Frequência|\n",
            "+------------+----------+\n",
            "|       Usado|     88827|\n",
            "|  Lançamento|       256|\n",
            "+------------+----------+\n",
            "\n"
          ]
        }
      ]
    },
    {
      "cell_type": "code",
      "source": [
        "usado = 88827\n",
        "lançamento = 256\n",
        "total = usado + lançamento\n",
        "\n",
        "print(f\"Usado: {(usado / total)*100:.2f}%, Lançamento: {(lançamento / total)*100:.2f}%\")"
      ],
      "metadata": {
        "colab": {
          "base_uri": "https://localhost:8080/"
        },
        "id": "UOgCLxOSaWmm",
        "outputId": "a1182465-64fb-44a0-ec3e-4c34084fb039"
      },
      "execution_count": 85,
      "outputs": [
        {
          "output_type": "stream",
          "name": "stdout",
          "text": [
            "Usado: 99.71%, Lançamento: 0.29%\n"
          ]
        }
      ]
    },
    {
      "cell_type": "markdown",
      "source": [
        "- 99.71% dos tipos dos anuncios são de imóveis usados, enquanto imóveis em lançamento correspondem a 0.29%"
      ],
      "metadata": {
        "id": "17GxEwBrbcOk"
      }
    },
    {
      "cell_type": "code",
      "source": [
        "# Filtrando a base procurando pelos tipos residencial, apartamento e usado\n",
        "df_filtro = df_anuncio\\\n",
        "  .where(f.upper(df_anuncio.tipo_uso).like(\"RESIDENCIAL\"))\\\n",
        "  .where(f.upper(df_anuncio.tipo_unidade).like(\"APARTAMENTO\"))\\\n",
        "  .where(f.upper(df_anuncio.tipo_anuncio).like(\"USADO\"))\n",
        "\n",
        "df_filtro.show()"
      ],
      "metadata": {
        "colab": {
          "base_uri": "https://localhost:8080/"
        },
        "id": "bihq9gnPu9H1",
        "outputId": "6f6e8b20-6c8f-499f-fa49-69fb5a18348a"
      },
      "execution_count": 86,
      "outputs": [
        {
          "output_type": "stream",
          "name": "stdout",
          "text": [
            "+-----+----------+---------+---------+--------------------+--------------------+--------+--------------+--------------+----------+----------+----+--------------------+----------+----+-------+------+------------+------------+-----------+----+----------------+----------+----------+-------+\n",
            "|andar|area_total|area_util|banheiros|     caracteristicas|              bairro|     cep|        cidade|        estado|  latitude| longitude|pais|                 rua|      zona|  id|quartos|suites|tipo_anuncio|tipo_unidade|   tipo_uso|vaga|valor_condominio|valor_iptu|valor_tipo|  valor|\n",
            "+-----+----------+---------+---------+--------------------+--------------------+--------+--------------+--------------+----------+----------+----+--------------------+----------+----+-------+------+------------+------------+-----------+----+----------------+----------+----------+-------+\n",
            "|    3|      [43]|     [43]|     [43]|[Academia, Churra...|           Paciência|23585430|Rio de Janeiro|Rio de Janeiro|-22.919851|-43.634034|  BR|Estrada de Santa ...|Zona Oeste|null|    [2]|    []|       Usado| Apartamento|Residencial| [1]|           [245]|    [null]|   [Venda]|[15000]|\n",
            "|    2|      [42]|     [42]|     [42]|[Churrasqueira, P...|           Paciência|23585430|Rio de Janeiro|Rio de Janeiro|-22.928108|-43.635375|  BR|Estrada de Santa ...|Zona Oeste|null|    [2]|    []|       Usado| Apartamento|Residencial| [1]|             [0]|       [0]|   [Venda]|[15000]|\n",
            "|    1|      [41]|     [41]|     [41]|[Portaria 24h, Co...|           Guaratiba|23036060|Rio de Janeiro|Rio de Janeiro|-22.948756|-43.582824|  BR|Estrada Cabuçu de...|Zona Oeste|null|    [2]|    []|       Usado| Apartamento|Residencial| [1]|             [0]|       [0]|   [Venda]|[20000]|\n",
            "|    3|      [43]|     [43]|     [43]|[Churrasqueira, P...|              Cosmos|23066271|Rio de Janeiro|Rio de Janeiro|-22.888194|-43.629602|  BR|Estrada da Paciência|Zona Oeste|null|    [2]|    []|       Usado| Apartamento|Residencial| [0]|           [285]|    [null]|   [Venda]|[20000]|\n",
            "|    2|      [43]|     [43]|     [43]|[Academia, Churra...|           Guaratiba|23036060|Rio de Janeiro|Rio de Janeiro|-22.948291|-43.582205|  BR|Estrada Cabuçu de...|Zona Oeste|null|    [2]|    []|       Usado| Apartamento|Residencial| [1]|           [245]|    [null]|   [Venda]|[15000]|\n",
            "|    3|      [43]|     [43]|     [43]|[Churrasqueira, P...|              Cosmos|23066271|Rio de Janeiro|Rio de Janeiro|-22.888194|-43.629602|  BR|Estrada da Paciência|Zona Oeste|null|    [2]|   [0]|       Usado| Apartamento|Residencial| [0]|           [285]|    [null]|   [Venda]|[20000]|\n",
            "|    3|      [43]|     [43]|     [43]|[Churrasqueira, P...|           Paciência|23585430|Rio de Janeiro|Rio de Janeiro|-22.919851|-43.634034|  BR|Estrada de Santa ...|Zona Oeste|null|    [2]|    []|       Usado| Apartamento|Residencial| [1]|           [250]|    [null]|   [Venda]|[15000]|\n",
            "|    3|      [43]|     [43]|     [43]|[Churrasqueira, P...|           Guaratiba|23036060|Rio de Janeiro|Rio de Janeiro|-22.948291|-43.582205|  BR|Estrada Cabuçu de...|Zona Oeste|null|    [2]|   [0]|       Usado| Apartamento|Residencial| [1]|           [245]|    [null]|   [Venda]|[15000]|\n",
            "|    3|      [43]|     [43]|     [43]|[Churrasqueira, P...|           Paciência|23585430|Rio de Janeiro|Rio de Janeiro|-22.919851|-43.634034|  BR|Estrada de Santa ...|Zona Oeste|null|    [2]|   [0]|       Usado| Apartamento|Residencial| [1]|           [245]|    [null]|   [Venda]|[15000]|\n",
            "|    4|      [43]|     [43]|     [43]|[Churrasqueira, P...|           Guaratiba|23036060|Rio de Janeiro|Rio de Janeiro|-22.948291|-43.582205|  BR|Estrada Cabuçu de...|Zona Oeste|null|    [2]|    []|       Usado| Apartamento|Residencial| [1]|           [240]|    [null]|   [Venda]|[17999]|\n",
            "|    0|      [60]|     [60]|     [60]|[Condomínio fechado]|  Pedra de Guaratiba|23025018|Rio de Janeiro|Rio de Janeiro|-22.991393|-43.628042|  BR|Rua Cento e Trint...|Zona Oeste|null|    [2]|    []|       Usado| Apartamento|Residencial| [1]|             [0]|       [0]|   [Venda]|[15000]|\n",
            "|    1|      [43]|     [43]|     [43]|[Churrasqueira, P...|              Cosmos|23056630|Rio de Janeiro|Rio de Janeiro|-22.918594|-43.611184|  BR|   Rua das Amoreiras|Zona Oeste|null|    [2]|    []|       Usado| Apartamento|Residencial| [1]|           [240]|       [0]|   [Venda]|[19999]|\n",
            "|    0|      [43]|     [43]|     [43]|[Churrasqueira, P...|        Campo Grande|23070600|Rio de Janeiro|Rio de Janeiro|-22.883694|-43.593646|  BR|    Rua Constituinte|Zona Oeste|null|    [2]|   [0]|       Usado| Apartamento|Residencial| [0]|           [245]|    [null]|   [Venda]|[19999]|\n",
            "|    2|      [43]|     [43]|     [43]|[Academia, Churra...|          Santa Cruz|23520560|Rio de Janeiro|Rio de Janeiro|-22.945648|-43.640029|  BR|Estrada de Santa ...|Zona Oeste|null|    [2]|    []|       Usado| Apartamento|Residencial| [2]|           [290]|    [null]|   [Venda]|[25000]|\n",
            "|    3|      [43]|     [43]|     [43]|[Salão de festas,...|           Guaratiba|23020135|Rio de Janeiro|Rio de Janeiro|-22.936475|-43.583306|  BR|   Rua Seis de Julho|Zona Oeste|null|    [2]|    []|       Usado| Apartamento|Residencial|  []|           [285]|    [null]|   [Venda]|[29999]|\n",
            "|    4|      [55]|     [55]|     [55]|[Academia, Churra...|Recreio dos Bande...|22790880|Rio de Janeiro|Rio de Janeiro|-23.022323|-43.509961|  BR|Rua Luiz Carlos S...|Zona Oeste|null|    [2]|   [1]|       Usado| Apartamento|Residencial| [1]|             [0]|       [0]|   [Venda]|[30000]|\n",
            "|    0|      [45]|     [45]|     [45]|[Playground, Pisc...|              Cosmos|23066271|Rio de Janeiro|Rio de Janeiro| -22.88939|-43.629587|  BR|Estrada da Paciência|Zona Oeste|null|    [2]|   [0]|       Usado| Apartamento|Residencial| [1]|          [null]|    [null]|   [Venda]|[30000]|\n",
            "|    5|      [42]|     [42]|     [42]|[Condomínio fecha...|            Realengo|21725180|Rio de Janeiro|Rio de Janeiro|-22.857776|-43.448282|  BR| Rua Hélio do Amaral|Zona Oeste|null|    [2]|   [0]|       Usado| Apartamento|Residencial| [0]|           [280]|       [0]|   [Venda]|[25000]|\n",
            "|    1|      [43]|     [43]|     [43]|[Churrasqueira, P...|              Cosmos|23058001|Rio de Janeiro|Rio de Janeiro|-22.915615| -43.61736|  BR|Avenida Cesário d...|Zona Oeste|null|    [2]|    []|       Usado| Apartamento|Residencial| [1]|           [280]|    [null]|   [Venda]|[27999]|\n",
            "|    3|        []|     [55]|     [55]|[Academia, Churra...|     Todos os Santos|20770240|Rio de Janeiro|Rio de Janeiro|-22.896488|-43.282714|  BR|  Rua José Bonifácio|Zona Norte|null|    [2]|   [1]|       Usado| Apartamento|Residencial| [1]|             [0]|       [0]|   [Venda]|[26000]|\n",
            "+-----+----------+---------+---------+--------------------+--------------------+--------+--------------+--------------+----------+----------+----+--------------------+----------+----+-------+------+------------+------------+-----------+----+----------------+----------+----------+-------+\n",
            "only showing top 20 rows\n",
            "\n"
          ]
        }
      ]
    },
    {
      "cell_type": "markdown",
      "source": [
        "## Trabalhando com o DataFrame filtrado"
      ],
      "metadata": {
        "id": "oX_vCoijb-Gh"
      }
    },
    {
      "cell_type": "markdown",
      "source": [
        "- Optei por utilizar apenas os dados que se encontravam na primeira posição da lista em cada coluna"
      ],
      "metadata": {
        "id": "PpAMl7t6iEs9"
      }
    },
    {
      "cell_type": "code",
      "source": [
        "df_filtro = df_filtro\\\n",
        "  .withColumn(\"quartos\", df_filtro.quartos[0].cast(IntegerType()))\\\n",
        "  .withColumn(\"suites\", df_filtro.suites[0].cast(IntegerType()))\\\n",
        "  .withColumn(\"banheiros\", df_filtro.banheiros[0].cast(IntegerType()))\\\n",
        "  .withColumn(\"vaga\", df_filtro.vaga[0].cast(IntegerType()))\\\n",
        "  .withColumn(\"area_total\", df_filtro.area_total[0].cast(IntegerType()))\\\n",
        "  .withColumn(\"area_util\", df_filtro.area_util[0].cast(IntegerType()))\\\n",
        "\n",
        "df_filtro.printSchema()"
      ],
      "metadata": {
        "id": "3n4iYcuzvWIG"
      },
      "execution_count": null,
      "outputs": []
    },
    {
      "cell_type": "code",
      "source": [
        "df_filtro.show()"
      ],
      "metadata": {
        "colab": {
          "base_uri": "https://localhost:8080/"
        },
        "id": "glKg0OVYdxPV",
        "outputId": "e1329304-7fcd-4eeb-adae-800b28cbf8e2"
      },
      "execution_count": 101,
      "outputs": [
        {
          "output_type": "stream",
          "name": "stdout",
          "text": [
            "+-----+----------+---------+---------+--------------------+--------------------+--------+--------------+--------------+----------+----------+----+--------------------+----------+----+-------+------+------------+------------+-----------+----+----------------+----------+----------+-------+\n",
            "|andar|area_total|area_util|banheiros|     caracteristicas|              bairro|     cep|        cidade|        estado|  latitude| longitude|pais|                 rua|      zona|  id|quartos|suites|tipo_anuncio|tipo_unidade|   tipo_uso|vaga|valor_condominio|valor_iptu|valor_tipo|  valor|\n",
            "+-----+----------+---------+---------+--------------------+--------------------+--------+--------------+--------------+----------+----------+----+--------------------+----------+----+-------+------+------------+------------+-----------+----+----------------+----------+----------+-------+\n",
            "|    3|        43|       43|       43|[Academia, Churra...|           Paciência|23585430|Rio de Janeiro|Rio de Janeiro|-22.919851|-43.634034|  BR|Estrada de Santa ...|Zona Oeste|null|      2|  null|       Usado| Apartamento|Residencial|   1|           [245]|    [null]|   [Venda]|[15000]|\n",
            "|    2|        42|       42|       42|[Churrasqueira, P...|           Paciência|23585430|Rio de Janeiro|Rio de Janeiro|-22.928108|-43.635375|  BR|Estrada de Santa ...|Zona Oeste|null|      2|  null|       Usado| Apartamento|Residencial|   1|             [0]|       [0]|   [Venda]|[15000]|\n",
            "|    1|        41|       41|       41|[Portaria 24h, Co...|           Guaratiba|23036060|Rio de Janeiro|Rio de Janeiro|-22.948756|-43.582824|  BR|Estrada Cabuçu de...|Zona Oeste|null|      2|  null|       Usado| Apartamento|Residencial|   1|             [0]|       [0]|   [Venda]|[20000]|\n",
            "|    3|        43|       43|       43|[Churrasqueira, P...|              Cosmos|23066271|Rio de Janeiro|Rio de Janeiro|-22.888194|-43.629602|  BR|Estrada da Paciência|Zona Oeste|null|      2|  null|       Usado| Apartamento|Residencial|   0|           [285]|    [null]|   [Venda]|[20000]|\n",
            "|    2|        43|       43|       43|[Academia, Churra...|           Guaratiba|23036060|Rio de Janeiro|Rio de Janeiro|-22.948291|-43.582205|  BR|Estrada Cabuçu de...|Zona Oeste|null|      2|  null|       Usado| Apartamento|Residencial|   1|           [245]|    [null]|   [Venda]|[15000]|\n",
            "|    3|        43|       43|       43|[Churrasqueira, P...|              Cosmos|23066271|Rio de Janeiro|Rio de Janeiro|-22.888194|-43.629602|  BR|Estrada da Paciência|Zona Oeste|null|      2|     0|       Usado| Apartamento|Residencial|   0|           [285]|    [null]|   [Venda]|[20000]|\n",
            "|    3|        43|       43|       43|[Churrasqueira, P...|           Paciência|23585430|Rio de Janeiro|Rio de Janeiro|-22.919851|-43.634034|  BR|Estrada de Santa ...|Zona Oeste|null|      2|  null|       Usado| Apartamento|Residencial|   1|           [250]|    [null]|   [Venda]|[15000]|\n",
            "|    3|        43|       43|       43|[Churrasqueira, P...|           Guaratiba|23036060|Rio de Janeiro|Rio de Janeiro|-22.948291|-43.582205|  BR|Estrada Cabuçu de...|Zona Oeste|null|      2|     0|       Usado| Apartamento|Residencial|   1|           [245]|    [null]|   [Venda]|[15000]|\n",
            "|    3|        43|       43|       43|[Churrasqueira, P...|           Paciência|23585430|Rio de Janeiro|Rio de Janeiro|-22.919851|-43.634034|  BR|Estrada de Santa ...|Zona Oeste|null|      2|     0|       Usado| Apartamento|Residencial|   1|           [245]|    [null]|   [Venda]|[15000]|\n",
            "|    4|        43|       43|       43|[Churrasqueira, P...|           Guaratiba|23036060|Rio de Janeiro|Rio de Janeiro|-22.948291|-43.582205|  BR|Estrada Cabuçu de...|Zona Oeste|null|      2|  null|       Usado| Apartamento|Residencial|   1|           [240]|    [null]|   [Venda]|[17999]|\n",
            "|    0|        60|       60|       60|[Condomínio fechado]|  Pedra de Guaratiba|23025018|Rio de Janeiro|Rio de Janeiro|-22.991393|-43.628042|  BR|Rua Cento e Trint...|Zona Oeste|null|      2|  null|       Usado| Apartamento|Residencial|   1|             [0]|       [0]|   [Venda]|[15000]|\n",
            "|    1|        43|       43|       43|[Churrasqueira, P...|              Cosmos|23056630|Rio de Janeiro|Rio de Janeiro|-22.918594|-43.611184|  BR|   Rua das Amoreiras|Zona Oeste|null|      2|  null|       Usado| Apartamento|Residencial|   1|           [240]|       [0]|   [Venda]|[19999]|\n",
            "|    0|        43|       43|       43|[Churrasqueira, P...|        Campo Grande|23070600|Rio de Janeiro|Rio de Janeiro|-22.883694|-43.593646|  BR|    Rua Constituinte|Zona Oeste|null|      2|     0|       Usado| Apartamento|Residencial|   0|           [245]|    [null]|   [Venda]|[19999]|\n",
            "|    2|        43|       43|       43|[Academia, Churra...|          Santa Cruz|23520560|Rio de Janeiro|Rio de Janeiro|-22.945648|-43.640029|  BR|Estrada de Santa ...|Zona Oeste|null|      2|  null|       Usado| Apartamento|Residencial|   2|           [290]|    [null]|   [Venda]|[25000]|\n",
            "|    3|        43|       43|       43|[Salão de festas,...|           Guaratiba|23020135|Rio de Janeiro|Rio de Janeiro|-22.936475|-43.583306|  BR|   Rua Seis de Julho|Zona Oeste|null|      2|  null|       Usado| Apartamento|Residencial|null|           [285]|    [null]|   [Venda]|[29999]|\n",
            "|    4|        55|       55|       55|[Academia, Churra...|Recreio dos Bande...|22790880|Rio de Janeiro|Rio de Janeiro|-23.022323|-43.509961|  BR|Rua Luiz Carlos S...|Zona Oeste|null|      2|     1|       Usado| Apartamento|Residencial|   1|             [0]|       [0]|   [Venda]|[30000]|\n",
            "|    0|        45|       45|       45|[Playground, Pisc...|              Cosmos|23066271|Rio de Janeiro|Rio de Janeiro| -22.88939|-43.629587|  BR|Estrada da Paciência|Zona Oeste|null|      2|     0|       Usado| Apartamento|Residencial|   1|          [null]|    [null]|   [Venda]|[30000]|\n",
            "|    5|        42|       42|       42|[Condomínio fecha...|            Realengo|21725180|Rio de Janeiro|Rio de Janeiro|-22.857776|-43.448282|  BR| Rua Hélio do Amaral|Zona Oeste|null|      2|     0|       Usado| Apartamento|Residencial|   0|           [280]|       [0]|   [Venda]|[25000]|\n",
            "|    1|        43|       43|       43|[Churrasqueira, P...|              Cosmos|23058001|Rio de Janeiro|Rio de Janeiro|-22.915615| -43.61736|  BR|Avenida Cesário d...|Zona Oeste|null|      2|  null|       Usado| Apartamento|Residencial|   1|           [280]|    [null]|   [Venda]|[27999]|\n",
            "|    3|      null|       55|       55|[Academia, Churra...|     Todos os Santos|20770240|Rio de Janeiro|Rio de Janeiro|-22.896488|-43.282714|  BR|  Rua José Bonifácio|Zona Norte|null|      2|     1|       Usado| Apartamento|Residencial|   1|             [0]|       [0]|   [Venda]|[26000]|\n",
            "+-----+----------+---------+---------+--------------------+--------------------+--------+--------------+--------------+----------+----------+----+--------------------+----------+----+-------+------+------------+------------+-----------+----+----------------+----------+----------+-------+\n",
            "only showing top 20 rows\n",
            "\n"
          ]
        }
      ]
    },
    {
      "cell_type": "markdown",
      "source": [
        "### Informações sobre endereço (dados filtrados)"
      ],
      "metadata": {
        "id": "0sYcNHSji0b1"
      }
    },
    {
      "cell_type": "code",
      "source": [
        "df_localizacao = df_filtro\\\n",
        "                .select(\"bairro\", \"zona\")\n",
        "df_localizacao.show()   "
      ],
      "metadata": {
        "colab": {
          "base_uri": "https://localhost:8080/"
        },
        "id": "CLZxprZZiCI1",
        "outputId": "7cb663fd-595c-438a-e341-357ea69bdcbb"
      },
      "execution_count": 103,
      "outputs": [
        {
          "output_type": "stream",
          "name": "stdout",
          "text": [
            "+--------------------+----------+\n",
            "|              bairro|      zona|\n",
            "+--------------------+----------+\n",
            "|           Paciência|Zona Oeste|\n",
            "|           Paciência|Zona Oeste|\n",
            "|           Guaratiba|Zona Oeste|\n",
            "|              Cosmos|Zona Oeste|\n",
            "|           Guaratiba|Zona Oeste|\n",
            "|              Cosmos|Zona Oeste|\n",
            "|           Paciência|Zona Oeste|\n",
            "|           Guaratiba|Zona Oeste|\n",
            "|           Paciência|Zona Oeste|\n",
            "|           Guaratiba|Zona Oeste|\n",
            "|  Pedra de Guaratiba|Zona Oeste|\n",
            "|              Cosmos|Zona Oeste|\n",
            "|        Campo Grande|Zona Oeste|\n",
            "|          Santa Cruz|Zona Oeste|\n",
            "|           Guaratiba|Zona Oeste|\n",
            "|Recreio dos Bande...|Zona Oeste|\n",
            "|              Cosmos|Zona Oeste|\n",
            "|            Realengo|Zona Oeste|\n",
            "|              Cosmos|Zona Oeste|\n",
            "|     Todos os Santos|Zona Norte|\n",
            "+--------------------+----------+\n",
            "only showing top 20 rows\n",
            "\n"
          ]
        }
      ]
    },
    {
      "cell_type": "markdown",
      "source": [
        "### Informações sobre valores (dados filtrados)"
      ],
      "metadata": {
        "id": "em1rvUpRj5S_"
      }
    },
    {
      "cell_type": "code",
      "source": [
        "df_valores = df_filtro\\\n",
        "              .select(\"valor_condominio\", \"valor_iptu\", \"valor_tipo\", \"valor\")\n",
        "\n",
        "df_valores = df_valores\\\n",
        "              .withColumn(\"valor_condominio\", df_valores.valor_condominio[0].cast(IntegerType()))\\\n",
        "              .withColumn(\"valor_iptu\", df_valores.valor_iptu[0].cast(IntegerType()))\\\n",
        "              .withColumn(\"valor_tipo\", df_valores.valor_tipo[0])\\\n",
        "              .withColumn(\"valor\", df_valores.valor[0].cast(IntegerType()))\n",
        "              \n",
        "df_valores.show()"
      ],
      "metadata": {
        "colab": {
          "base_uri": "https://localhost:8080/"
        },
        "id": "7_NWNABOjNkZ",
        "outputId": "4e9a5b6b-e534-4359-e811-f39375756f75"
      },
      "execution_count": 105,
      "outputs": [
        {
          "output_type": "stream",
          "name": "stdout",
          "text": [
            "+----------------+----------+----------+-----+\n",
            "|valor_condominio|valor_iptu|valor_tipo|valor|\n",
            "+----------------+----------+----------+-----+\n",
            "|             245|      null|     Venda|15000|\n",
            "|               0|         0|     Venda|15000|\n",
            "|               0|         0|     Venda|20000|\n",
            "|             285|      null|     Venda|20000|\n",
            "|             245|      null|     Venda|15000|\n",
            "|             285|      null|     Venda|20000|\n",
            "|             250|      null|     Venda|15000|\n",
            "|             245|      null|     Venda|15000|\n",
            "|             245|      null|     Venda|15000|\n",
            "|             240|      null|     Venda|17999|\n",
            "|               0|         0|     Venda|15000|\n",
            "|             240|         0|     Venda|19999|\n",
            "|             245|      null|     Venda|19999|\n",
            "|             290|      null|     Venda|25000|\n",
            "|             285|      null|     Venda|29999|\n",
            "|               0|         0|     Venda|30000|\n",
            "|            null|      null|     Venda|30000|\n",
            "|             280|         0|     Venda|25000|\n",
            "|             280|      null|     Venda|27999|\n",
            "|               0|         0|     Venda|26000|\n",
            "+----------------+----------+----------+-----+\n",
            "only showing top 20 rows\n",
            "\n"
          ]
        }
      ]
    },
    {
      "cell_type": "code",
      "source": [
        "# Filtrando por \"Venda\" na coluna valor_tipo\n",
        "df_valores\\\n",
        "  .where(\"valor_tipo = 'Venda'\").show()"
      ],
      "metadata": {
        "colab": {
          "base_uri": "https://localhost:8080/"
        },
        "id": "ZR-vUZIl0223",
        "outputId": "73ad776e-17ee-4de7-f8e6-26632b5d3076"
      },
      "execution_count": 110,
      "outputs": [
        {
          "output_type": "stream",
          "name": "stdout",
          "text": [
            "+----------------+----------+----------+-----+\n",
            "|valor_condominio|valor_iptu|valor_tipo|valor|\n",
            "+----------------+----------+----------+-----+\n",
            "|             245|      null|     Venda|15000|\n",
            "|               0|         0|     Venda|15000|\n",
            "|               0|         0|     Venda|20000|\n",
            "|             285|      null|     Venda|20000|\n",
            "|             245|      null|     Venda|15000|\n",
            "|             285|      null|     Venda|20000|\n",
            "|             250|      null|     Venda|15000|\n",
            "|             245|      null|     Venda|15000|\n",
            "|             245|      null|     Venda|15000|\n",
            "|             240|      null|     Venda|17999|\n",
            "|               0|         0|     Venda|15000|\n",
            "|             240|         0|     Venda|19999|\n",
            "|             245|      null|     Venda|19999|\n",
            "|             290|      null|     Venda|25000|\n",
            "|             285|      null|     Venda|29999|\n",
            "|               0|         0|     Venda|30000|\n",
            "|            null|      null|     Venda|30000|\n",
            "|             280|         0|     Venda|25000|\n",
            "|             280|      null|     Venda|27999|\n",
            "|               0|         0|     Venda|26000|\n",
            "+----------------+----------+----------+-----+\n",
            "only showing top 20 rows\n",
            "\n"
          ]
        }
      ]
    },
    {
      "cell_type": "markdown",
      "source": [
        "## Salvando/Criando Arquivos"
      ],
      "metadata": {
        "id": "dtOiySJt4dsP"
      }
    },
    {
      "cell_type": "code",
      "source": [
        "df_valores.write.parquet(\n",
        "    path=\"/content/drive/MyDrive/desafio_datascience/semana-1/parquet\",\n",
        "    mode= \"overwrite\"\n",
        ")"
      ],
      "metadata": {
        "id": "hgCytIbi3bHn"
      },
      "execution_count": 111,
      "outputs": []
    },
    {
      "cell_type": "code",
      "source": [
        "df_valores.write.csv(\n",
        "    path=\"/content/drive/MyDrive/desafio_datascience/semana-1/csv\",\n",
        "    mode= \"overwrite\",\n",
        "    sep= \";\",\n",
        "    header= True\n",
        ")"
      ],
      "metadata": {
        "id": "Hci1uOC040rK"
      },
      "execution_count": 112,
      "outputs": []
    },
    {
      "cell_type": "markdown",
      "source": [
        "### Comparação de desempenho de leitura"
      ],
      "metadata": {
        "id": "cBWHRhhE5E7q"
      }
    },
    {
      "cell_type": "code",
      "source": [
        "%%time\n",
        "path = \"/content/drive/MyDrive/desafio_datascience/semana-1/csv\"\n",
        "dados = spark.read.csv(path)"
      ],
      "metadata": {
        "colab": {
          "base_uri": "https://localhost:8080/"
        },
        "id": "wVac4KhH5Hiy",
        "outputId": "2f0d790d-253a-43fe-8c87-58480000cf3f"
      },
      "execution_count": 113,
      "outputs": [
        {
          "output_type": "stream",
          "name": "stdout",
          "text": [
            "CPU times: user 6.71 ms, sys: 1.95 ms, total: 8.66 ms\n",
            "Wall time: 357 ms\n"
          ]
        }
      ]
    },
    {
      "cell_type": "code",
      "source": [
        "%%time\n",
        "path = \"/content/drive/MyDrive/desafio_datascience/semana-1/parquet\"\n",
        "dados = spark.read.parquet(path)"
      ],
      "metadata": {
        "colab": {
          "base_uri": "https://localhost:8080/"
        },
        "id": "iRIKtpuY5Xbt",
        "outputId": "9e16be34-82f5-4a11-ccd7-616e0ecf22a7"
      },
      "execution_count": 114,
      "outputs": [
        {
          "output_type": "stream",
          "name": "stdout",
          "text": [
            "CPU times: user 4.42 ms, sys: 156 µs, total: 4.58 ms\n",
            "Wall time: 200 ms\n"
          ]
        }
      ]
    },
    {
      "cell_type": "markdown",
      "source": [
        "- Comprova que a leitura de arquivos parquet é mais eficiente"
      ],
      "metadata": {
        "id": "DA7wGs6T5gKt"
      }
    }
  ]
}